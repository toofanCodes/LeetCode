{
 "cells": [
  {
   "cell_type": "markdown",
   "metadata": {},
   "source": [
    "Software design principle followed here: \n",
    "#### DRY --> DONT REPEAT YOURSELF\n",
    "\n",
    "we are using the concept of decorators to create code blocks that would reuse certain logics across the body of code.\n",
    "\n",
    "this could be really powerful way of doing things when trying to:\n",
    "1. log processes inside the code  \n",
    "2. for transaction management  \n",
    "3. error handling with try: except blocks    \n",
    " \n",
    "»» btw these are called **'cross cutting concerns'** because they apply to many different parts of an application. \n",
    "\n",
    "BY ABSTRACTING THIS boiler plate code into a single decorator, you can apply it faster anywhere with a single line @<decorator_name> \n",
    "\n",
    "This allows for the main function code to focus on specific business logic without bothering about rest - this keeps code clean, readable, and focused"
   ]
  },
  {
   "cell_type": "code",
   "execution_count": 1,
   "metadata": {},
   "outputs": [],
   "source": [
    "def logging_decorator(original_function):\n",
    "    def wrapper(*args, **kwargs):                                                                           # refer to Positional vs Arbitrary values file for understanding *args, **kwargs\n",
    "        \"\"\"\n",
    "        I am wrapper's docstring, are you expecting me?\n",
    "        \"\"\"\n",
    "        print(f\"Calling function: {original_function.__name__}\")\n",
    "        \n",
    "        result = original_function(*args, **kwargs)\n",
    "        \n",
    "        print(f\"Finished function: {original_function.__name__}\")\n",
    "        return result\n",
    "    \n",
    "    return wrapper\n"
   ]
  },
  {
   "cell_type": "code",
   "execution_count": 2,
   "metadata": {},
   "outputs": [],
   "source": [
    "@logging_decorator\n",
    "def add_numbers(a,b):\n",
    "    \"\"\"_summary_ ## I am docstring of add_numbers\n",
    "\n",
    "    Args:\n",
    "        a (_type_): _description_\n",
    "        b (_type_): _description_\n",
    "\n",
    "    Returns:\n",
    "        _type_: _description_\n",
    "    \"\"\"\n",
    "    return a + b\n",
    "\n",
    "@logging_decorator\n",
    "def sub_numbers(a,b):\n",
    "    return a - b"
   ]
  },
  {
   "cell_type": "code",
   "execution_count": 3,
   "metadata": {},
   "outputs": [
    {
     "name": "stdout",
     "output_type": "stream",
     "text": [
      "Calling function: add_numbers\n",
      "Finished function: add_numbers\n",
      "Sum result: 3\n",
      "\n",
      "Calling function: sub_numbers\n",
      "Finished function: sub_numbers\n",
      "Sub result: -1\n"
     ]
    }
   ],
   "source": [
    "sum_result = add_numbers(1,2)\n",
    "print(f\"Sum result: {sum_result}\\n\")\n",
    "\n",
    "sub_result = sub_numbers(1,2)\n",
    "print(f\"Sub result: {sub_result}\")"
   ]
  },
  {
   "cell_type": "code",
   "execution_count": 4,
   "metadata": {},
   "outputs": [
    {
     "name": "stdout",
     "output_type": "stream",
     "text": [
      "<function logging_decorator.<locals>.wrapper at 0x10609d940>\n"
     ]
    }
   ],
   "source": [
    "print(add_numbers)"
   ]
  },
  {
   "cell_type": "code",
   "execution_count": 5,
   "metadata": {},
   "outputs": [
    {
     "data": {
      "text/plain": [
       "<function __main__.logging_decorator.<locals>.wrapper(*args, **kwargs)>"
      ]
     },
     "execution_count": 5,
     "metadata": {},
     "output_type": "execute_result"
    }
   ],
   "source": [
    "add_numbers"
   ]
  },
  {
   "cell_type": "code",
   "execution_count": 6,
   "metadata": {},
   "outputs": [
    {
     "data": {
      "text/plain": [
       "'wrapper'"
      ]
     },
     "execution_count": 6,
     "metadata": {},
     "output_type": "execute_result"
    }
   ],
   "source": [
    "add_numbers.__name__"
   ]
  },
  {
   "cell_type": "code",
   "execution_count": 7,
   "metadata": {},
   "outputs": [
    {
     "name": "stdout",
     "output_type": "stream",
     "text": [
      "Help on function wrapper in module __main__:\n",
      "\n",
      "wrapper(*args, **kwargs)\n",
      "    I am wrapper's docstring, are you expecting me?\n",
      "\n"
     ]
    }
   ],
   "source": [
    "help(add_numbers)"
   ]
  },
  {
   "cell_type": "markdown",
   "metadata": {},
   "source": [
    "__no, we are not expecting wrapper's docstring, we wanted add_numbers docstring__"
   ]
  },
  {
   "cell_type": "markdown",
   "metadata": {},
   "source": [
    "__this is where functools comes to play a part__"
   ]
  },
  {
   "cell_type": "markdown",
   "metadata": {},
   "source": [
    "### » Use of Functools"
   ]
  },
  {
   "cell_type": "code",
   "execution_count": 8,
   "metadata": {},
   "outputs": [],
   "source": [
    "import functools\n",
    "\n",
    "def logging_decorator_new(original_function):\n",
    "    @functools.wraps(original_function)\n",
    "    def wrapper(*args, **kwargs):                                                                           # refer to Positional vs Arbitrary values file for understanding *args, **kwargs\n",
    "        print(f\"Calling function: {original_function.__name__}\")\n",
    "        \n",
    "        result = original_function(*args, **kwargs)\n",
    "        \n",
    "        print(f\"Finished function: {original_function.__name__}\")\n",
    "        return result\n",
    "    \n",
    "    return wrapper\n"
   ]
  },
  {
   "cell_type": "code",
   "execution_count": 9,
   "metadata": {},
   "outputs": [],
   "source": [
    "@logging_decorator_new\n",
    "def add_numbers_new(a,b):\n",
    "    \"\"\"_summary_ ## I am docstring of add_numbers_new\n",
    "\n",
    "    Args:\n",
    "        a (_type_): _description_\n",
    "        b (_type_): _description_\n",
    "\n",
    "    Returns:\n",
    "        _type_: _description_\n",
    "    \"\"\"\n",
    "    return a + b"
   ]
  },
  {
   "cell_type": "code",
   "execution_count": 10,
   "metadata": {},
   "outputs": [
    {
     "data": {
      "text/plain": [
       "<function __main__.add_numbers_new(a, b)>"
      ]
     },
     "execution_count": 10,
     "metadata": {},
     "output_type": "execute_result"
    }
   ],
   "source": [
    "add_numbers_new"
   ]
  },
  {
   "cell_type": "code",
   "execution_count": 11,
   "metadata": {},
   "outputs": [
    {
     "data": {
      "text/plain": [
       "'add_numbers_new'"
      ]
     },
     "execution_count": 11,
     "metadata": {},
     "output_type": "execute_result"
    }
   ],
   "source": [
    "add_numbers_new.__name__"
   ]
  },
  {
   "cell_type": "code",
   "execution_count": 12,
   "metadata": {},
   "outputs": [
    {
     "name": "stdout",
     "output_type": "stream",
     "text": [
      "Help on function add_numbers_new in module __main__:\n",
      "\n",
      "add_numbers_new(a, b)\n",
      "    _summary_ ## I am docstring of add_numbers_new\n",
      "\n",
      "    Args:\n",
      "        a (_type_): _description_\n",
      "        b (_type_): _description_\n",
      "\n",
      "    Returns:\n",
      "        _type_: _description_\n",
      "\n"
     ]
    }
   ],
   "source": [
    "help(add_numbers_new)"
   ]
  },
  {
   "cell_type": "code",
   "execution_count": 13,
   "metadata": {},
   "outputs": [
    {
     "name": "stdout",
     "output_type": "stream",
     "text": [
      "Calling function: add_numbers_new\n",
      "Finished function: add_numbers_new\n"
     ]
    },
    {
     "data": {
      "text/plain": [
       "30"
      ]
     },
     "execution_count": 13,
     "metadata": {},
     "output_type": "execute_result"
    }
   ],
   "source": [
    "add_numbers_new(10,20)"
   ]
  },
  {
   "cell_type": "markdown",
   "metadata": {},
   "source": [
    "### » Examples using decorators"
   ]
  },
  {
   "cell_type": "markdown",
   "metadata": {},
   "source": [
    "#### »» Timing Functions"
   ]
  },
  {
   "cell_type": "code",
   "execution_count": 14,
   "metadata": {},
   "outputs": [],
   "source": [
    "import functools\n",
    "import time\n",
    "\n",
    "def timer(func):\n",
    "\n",
    "    @functools.wraps(func)\n",
    "    def wrapper_timer(*args, **kwargs):\n",
    "        start_time = time.perf_counter()\n",
    "        value = func(*args, **kwargs)\n",
    "        end_time = time.perf_counter()\n",
    "        run_time = end_time - start_time\n",
    "        print(f\"Finished {func.__name__}() in {run_time:.8f} secs\")\n",
    "        return value\n",
    "    return wrapper_timer"
   ]
  },
  {
   "cell_type": "code",
   "execution_count": 15,
   "metadata": {},
   "outputs": [],
   "source": [
    "@timer\n",
    "def factorial(n):\n",
    "    if n < 0:\n",
    "        print(\"value error\")\n",
    "    elif n == 0:\n",
    "        return 1\n",
    "    else:\n",
    "        result = 1\n",
    "        for i in range(1, n + 1):\n",
    "            result *= i\n",
    "        return result"
   ]
  },
  {
   "cell_type": "code",
   "execution_count": 16,
   "metadata": {},
   "outputs": [
    {
     "name": "stdout",
     "output_type": "stream",
     "text": [
      "Finished factorial() in 0.00000204 secs\n"
     ]
    },
    {
     "data": {
      "text/plain": [
       "265252859812191058636308480000000"
      ]
     },
     "execution_count": 16,
     "metadata": {},
     "output_type": "execute_result"
    }
   ],
   "source": [
    "factorial(30)"
   ]
  },
  {
   "cell_type": "code",
   "execution_count": 17,
   "metadata": {},
   "outputs": [
    {
     "name": "stdout",
     "output_type": "stream",
     "text": [
      "Finished factorial() in 0.00000562 secs\n"
     ]
    },
    {
     "data": {
      "text/plain": [
       "30414093201713378043612608166064768844377641568960512000000000000"
      ]
     },
     "execution_count": 17,
     "metadata": {},
     "output_type": "execute_result"
    }
   ],
   "source": [
    "factorial(50)"
   ]
  },
  {
   "cell_type": "code",
   "execution_count": 18,
   "metadata": {},
   "outputs": [
    {
     "data": {
      "text/plain": [
       "{'__name__': '__main__',\n",
       " '__doc__': '\\nNote: all executions are function-scoped as we do not assume the code below executes in an isolated kernel environment.\\n',\n",
       " '__package__': None,\n",
       " '__loader__': None,\n",
       " '__spec__': None,\n",
       " '__builtin__': <module 'builtins' (built-in)>,\n",
       " '__builtins__': <module 'builtins' (built-in)>,\n",
       " '_ih': ['',\n",
       "  'def logging_decorator(original_function):\\n    def wrapper(*args, **kwargs):                                                                           # refer to Positional vs Arbitrary values file for understanding *args, **kwargs\\n        \"\"\"\\n        I am wrapper\\'s docstring, are you expecting me?\\n        \"\"\"\\n        print(f\"Calling function: {original_function.__name__}\")\\n\\n        result = original_function(*args, **kwargs)\\n\\n        print(f\"Finished function: {original_function.__name__}\")\\n        return result\\n\\n    return wrapper',\n",
       "  '@logging_decorator\\ndef add_numbers(a,b):\\n    \"\"\"_summary_ ## I am docstring of add_numbers\\n\\n    Args:\\n        a (_type_): _description_\\n        b (_type_): _description_\\n\\n    Returns:\\n        _type_: _description_\\n    \"\"\"\\n    return a + b\\n\\n@logging_decorator\\ndef sub_numbers(a,b):\\n    return a - b',\n",
       "  'sum_result = add_numbers(1,2)\\nprint(f\"Sum result: {sum_result}\\\\n\")\\n\\nsub_result = sub_numbers(1,2)\\nprint(f\"Sub result: {sub_result}\")',\n",
       "  'print(add_numbers)',\n",
       "  'add_numbers',\n",
       "  'add_numbers.__name__',\n",
       "  'help(add_numbers)',\n",
       "  'import functools\\n\\ndef logging_decorator_new(original_function):\\n    @functools.wraps(original_function)\\n    def wrapper(*args, **kwargs):                                                                           # refer to Positional vs Arbitrary values file for understanding *args, **kwargs\\n        print(f\"Calling function: {original_function.__name__}\")\\n\\n        result = original_function(*args, **kwargs)\\n\\n        print(f\"Finished function: {original_function.__name__}\")\\n        return result\\n\\n    return wrapper',\n",
       "  '@logging_decorator_new\\ndef add_numbers_new(a,b):\\n    \"\"\"_summary_ ## I am docstring of add_numbers_new\\n\\n    Args:\\n        a (_type_): _description_\\n        b (_type_): _description_\\n\\n    Returns:\\n        _type_: _description_\\n    \"\"\"\\n    return a + b',\n",
       "  'add_numbers_new',\n",
       "  'add_numbers_new.__name__',\n",
       "  'help(add_numbers_new)',\n",
       "  'add_numbers_new(10,20)',\n",
       "  'import functools\\nimport time\\n\\ndef timer(func):\\n\\n    @functools.wraps(func)\\n    def wrapper_timer(*args, **kwargs):\\n        start_time = time.perf_counter()\\n        value = func(*args, **kwargs)\\n        end_time = time.perf_counter()\\n        run_time = end_time - start_time\\n        print(f\"Finished {func.__name__}() in {run_time:.8f} secs\")\\n        return value\\n    return wrapper_timer',\n",
       "  '@timer\\ndef factorial(n):\\n    if n < 0:\\n        print(\"value error\")\\n    elif n == 0:\\n        return 1\\n    else:\\n        result = 1\\n        for i in range(1, n + 1):\\n            result *= i\\n        return result',\n",
       "  'factorial(30)',\n",
       "  'factorial(50)',\n",
       "  'globals()'],\n",
       " '_oh': {5: <function __main__.logging_decorator.<locals>.wrapper(*args, **kwargs)>,\n",
       "  6: 'wrapper',\n",
       "  10: <function __main__.add_numbers_new(a, b)>,\n",
       "  11: 'add_numbers_new',\n",
       "  13: 30,\n",
       "  16: 265252859812191058636308480000000,\n",
       "  17: 30414093201713378043612608166064768844377641568960512000000000000},\n",
       " '_dh': [PosixPath('/Users/toofanmacpro/LeetCode/python')],\n",
       " 'In': ['',\n",
       "  'def logging_decorator(original_function):\\n    def wrapper(*args, **kwargs):                                                                           # refer to Positional vs Arbitrary values file for understanding *args, **kwargs\\n        \"\"\"\\n        I am wrapper\\'s docstring, are you expecting me?\\n        \"\"\"\\n        print(f\"Calling function: {original_function.__name__}\")\\n\\n        result = original_function(*args, **kwargs)\\n\\n        print(f\"Finished function: {original_function.__name__}\")\\n        return result\\n\\n    return wrapper',\n",
       "  '@logging_decorator\\ndef add_numbers(a,b):\\n    \"\"\"_summary_ ## I am docstring of add_numbers\\n\\n    Args:\\n        a (_type_): _description_\\n        b (_type_): _description_\\n\\n    Returns:\\n        _type_: _description_\\n    \"\"\"\\n    return a + b\\n\\n@logging_decorator\\ndef sub_numbers(a,b):\\n    return a - b',\n",
       "  'sum_result = add_numbers(1,2)\\nprint(f\"Sum result: {sum_result}\\\\n\")\\n\\nsub_result = sub_numbers(1,2)\\nprint(f\"Sub result: {sub_result}\")',\n",
       "  'print(add_numbers)',\n",
       "  'add_numbers',\n",
       "  'add_numbers.__name__',\n",
       "  'help(add_numbers)',\n",
       "  'import functools\\n\\ndef logging_decorator_new(original_function):\\n    @functools.wraps(original_function)\\n    def wrapper(*args, **kwargs):                                                                           # refer to Positional vs Arbitrary values file for understanding *args, **kwargs\\n        print(f\"Calling function: {original_function.__name__}\")\\n\\n        result = original_function(*args, **kwargs)\\n\\n        print(f\"Finished function: {original_function.__name__}\")\\n        return result\\n\\n    return wrapper',\n",
       "  '@logging_decorator_new\\ndef add_numbers_new(a,b):\\n    \"\"\"_summary_ ## I am docstring of add_numbers_new\\n\\n    Args:\\n        a (_type_): _description_\\n        b (_type_): _description_\\n\\n    Returns:\\n        _type_: _description_\\n    \"\"\"\\n    return a + b',\n",
       "  'add_numbers_new',\n",
       "  'add_numbers_new.__name__',\n",
       "  'help(add_numbers_new)',\n",
       "  'add_numbers_new(10,20)',\n",
       "  'import functools\\nimport time\\n\\ndef timer(func):\\n\\n    @functools.wraps(func)\\n    def wrapper_timer(*args, **kwargs):\\n        start_time = time.perf_counter()\\n        value = func(*args, **kwargs)\\n        end_time = time.perf_counter()\\n        run_time = end_time - start_time\\n        print(f\"Finished {func.__name__}() in {run_time:.8f} secs\")\\n        return value\\n    return wrapper_timer',\n",
       "  '@timer\\ndef factorial(n):\\n    if n < 0:\\n        print(\"value error\")\\n    elif n == 0:\\n        return 1\\n    else:\\n        result = 1\\n        for i in range(1, n + 1):\\n            result *= i\\n        return result',\n",
       "  'factorial(30)',\n",
       "  'factorial(50)',\n",
       "  'globals()'],\n",
       " 'Out': {5: <function __main__.logging_decorator.<locals>.wrapper(*args, **kwargs)>,\n",
       "  6: 'wrapper',\n",
       "  10: <function __main__.add_numbers_new(a, b)>,\n",
       "  11: 'add_numbers_new',\n",
       "  13: 30,\n",
       "  16: 265252859812191058636308480000000,\n",
       "  17: 30414093201713378043612608166064768844377641568960512000000000000},\n",
       " 'get_ipython': <bound method InteractiveShell.get_ipython of <ipykernel.zmqshell.ZMQInteractiveShell object at 0x105fec590>>,\n",
       " 'exit': <IPython.core.autocall.ZMQExitAutocall at 0x10575f380>,\n",
       " 'quit': <IPython.core.autocall.ZMQExitAutocall at 0x10575f380>,\n",
       " 'open': <function _io.open(file, mode='r', buffering=-1, encoding=None, errors=None, newline=None, closefd=True, opener=None)>,\n",
       " '_': 30414093201713378043612608166064768844377641568960512000000000000,\n",
       " '__': 265252859812191058636308480000000,\n",
       " '___': 30,\n",
       " '__vsc_ipynb_file__': '/Users/toofanmacpro/LeetCode/python/decorator_functionalProgramming.ipynb',\n",
       " '__DW_SCOPE__': {'output_cache': {},\n",
       "  'output-a3cc368f-4698-4c04-b7ed-c8ff4a5e0ba0': {'enable_for_types': <function __main__.__DW_OUTPUT_FORMATTER__.<locals>.enable_formatter_for_types(*args)>,\n",
       "   'disable': <function __main__.__DW_OUTPUT_FORMATTER__.<locals>.disable_formatter()>}},\n",
       " '_i': 'factorial(50)',\n",
       " '_ii': 'factorial(30)',\n",
       " '_iii': '@timer\\ndef factorial(n):\\n    if n < 0:\\n        print(\"value error\")\\n    elif n == 0:\\n        return 1\\n    else:\\n        result = 1\\n        for i in range(1, n + 1):\\n            result *= i\\n        return result',\n",
       " '_i1': 'def logging_decorator(original_function):\\n    def wrapper(*args, **kwargs):                                                                           # refer to Positional vs Arbitrary values file for understanding *args, **kwargs\\n        \"\"\"\\n        I am wrapper\\'s docstring, are you expecting me?\\n        \"\"\"\\n        print(f\"Calling function: {original_function.__name__}\")\\n        \\n        result = original_function(*args, **kwargs)\\n        \\n        print(f\"Finished function: {original_function.__name__}\")\\n        return result\\n    \\n    return wrapper',\n",
       " 'logging_decorator': <function __main__.logging_decorator(original_function)>,\n",
       " '_i2': '@logging_decorator\\ndef add_numbers(a,b):\\n    \"\"\"_summary_ ## I am docstring of add_numbers\\n\\n    Args:\\n        a (_type_): _description_\\n        b (_type_): _description_\\n\\n    Returns:\\n        _type_: _description_\\n    \"\"\"\\n    return a + b\\n\\n@logging_decorator\\ndef sub_numbers(a,b):\\n    return a - b',\n",
       " 'add_numbers': <function __main__.logging_decorator.<locals>.wrapper(*args, **kwargs)>,\n",
       " 'sub_numbers': <function __main__.logging_decorator.<locals>.wrapper(*args, **kwargs)>,\n",
       " '_i3': 'sum_result = add_numbers(1,2)\\nprint(f\"Sum result: {sum_result}\\\\n\")\\n\\nsub_result = sub_numbers(1,2)\\nprint(f\"Sub result: {sub_result}\")',\n",
       " 'sum_result': 3,\n",
       " 'sub_result': -1,\n",
       " '_i4': 'print(add_numbers)',\n",
       " '_i5': 'add_numbers',\n",
       " '_5': <function __main__.logging_decorator.<locals>.wrapper(*args, **kwargs)>,\n",
       " '_i6': 'add_numbers.__name__',\n",
       " '_6': 'wrapper',\n",
       " '_i7': 'help(add_numbers)',\n",
       " '_i8': 'import functools\\n\\ndef logging_decorator_new(original_function):\\n    @functools.wraps(original_function)\\n    def wrapper(*args, **kwargs):                                                                           # refer to Positional vs Arbitrary values file for understanding *args, **kwargs\\n        print(f\"Calling function: {original_function.__name__}\")\\n        \\n        result = original_function(*args, **kwargs)\\n        \\n        print(f\"Finished function: {original_function.__name__}\")\\n        return result\\n    \\n    return wrapper',\n",
       " 'functools': <module 'functools' from '/opt/anaconda3/lib/python3.12/functools.py'>,\n",
       " 'logging_decorator_new': <function __main__.logging_decorator_new(original_function)>,\n",
       " '_i9': '@logging_decorator_new\\ndef add_numbers_new(a,b):\\n    \"\"\"_summary_ ## I am docstring of add_numbers_new\\n\\n    Args:\\n        a (_type_): _description_\\n        b (_type_): _description_\\n\\n    Returns:\\n        _type_: _description_\\n    \"\"\"\\n    return a + b',\n",
       " 'add_numbers_new': <function __main__.add_numbers_new(a, b)>,\n",
       " '_i10': 'add_numbers_new',\n",
       " '_10': <function __main__.add_numbers_new(a, b)>,\n",
       " '_i11': 'add_numbers_new.__name__',\n",
       " '_11': 'add_numbers_new',\n",
       " '_i12': 'help(add_numbers_new)',\n",
       " '_i13': 'add_numbers_new(10,20)',\n",
       " '_13': 30,\n",
       " '_i14': 'import functools\\nimport time\\n\\ndef timer(func):\\n\\n    @functools.wraps(func)\\n    def wrapper_timer(*args, **kwargs):\\n        start_time = time.perf_counter()\\n        value = func(*args, **kwargs)\\n        end_time = time.perf_counter()\\n        run_time = end_time - start_time\\n        print(f\"Finished {func.__name__}() in {run_time:.8f} secs\")\\n        return value\\n    return wrapper_timer',\n",
       " 'time': <module 'time' (built-in)>,\n",
       " 'timer': <function __main__.timer(func)>,\n",
       " '_i15': '@timer\\ndef factorial(n):\\n    if n < 0:\\n        print(\"value error\")\\n    elif n == 0:\\n        return 1\\n    else:\\n        result = 1\\n        for i in range(1, n + 1):\\n            result *= i\\n        return result',\n",
       " 'factorial': <function __main__.factorial(n)>,\n",
       " '_i16': 'factorial(30)',\n",
       " '_16': 265252859812191058636308480000000,\n",
       " '_i17': 'factorial(50)',\n",
       " '_17': 30414093201713378043612608166064768844377641568960512000000000000,\n",
       " '_i18': 'globals()'}"
      ]
     },
     "execution_count": 18,
     "metadata": {},
     "output_type": "execute_result"
    }
   ],
   "source": [
    "globals()"
   ]
  },
  {
   "cell_type": "markdown",
   "metadata": {},
   "source": [
    "#### »» adding multiple decorators to one funciton"
   ]
  },
  {
   "cell_type": "markdown",
   "metadata": {},
   "source": [
    "they are applied bottom-up, i.e. in our example, logging gets applied first"
   ]
  },
  {
   "cell_type": "code",
   "execution_count": 19,
   "metadata": {},
   "outputs": [],
   "source": [
    "@timer\n",
    "@logging_decorator\n",
    "def factorial(n):\n",
    "    if n < 0:\n",
    "        print(\"value error\")\n",
    "    elif n == 0:\n",
    "        return 1\n",
    "    else:\n",
    "        result = 1\n",
    "        for i in range(1, n + 1):\n",
    "            result *= i\n",
    "        return result"
   ]
  },
  {
   "cell_type": "code",
   "execution_count": 20,
   "metadata": {},
   "outputs": [
    {
     "name": "stdout",
     "output_type": "stream",
     "text": [
      "Calling function: factorial\n",
      "Finished function: factorial\n",
      "Finished wrapper() in 0.00002554 secs\n"
     ]
    },
    {
     "data": {
      "text/plain": [
       "119622220865480194561963161495657715064383733760000000000"
      ]
     },
     "execution_count": 20,
     "metadata": {},
     "output_type": "execute_result"
    }
   ],
   "source": [
    "factorial(45)"
   ]
  },
  {
   "cell_type": "markdown",
   "metadata": {},
   "source": [
    "#### »» PLUGINS dictionary of functions"
   ]
  },
  {
   "cell_type": "markdown",
   "metadata": {},
   "source": [
    "Plugins make code flexible, extensible and modular  --> allowing to add or change features without modifying core application code  \n",
    "\n",
    "Crucial for:  \n",
    "1. __Extensibility__: add new functionalities to an existing system without altering its original source code  \n",
    "2. __Modularity__           : break down a large application into smaller, independent, and manageable units. each plugin can be defined to handle separate tasks.  \n",
    "3. __Customization__        : enables users or 3rd party developers to customie or enhance software to suit their specific needs  \n",
    "4. __Reusability__          : developed once and reused across different projects or instances of the same application  \n",
    "5. __Separation of concern__: separate core logic from specific features or integrations, leading to cleaner codebases.  "
   ]
  },
  {
   "cell_type": "code",
   "execution_count": 21,
   "metadata": {},
   "outputs": [],
   "source": [
    "PLUGINS = dict()\n",
    "\n",
    "def register(func):                                                     # this would act as a centralised registry of all functions, helpful when writing large chunks of code\n",
    "\n",
    "    PLUGINS[func.__name__] = func\n",
    "    return func"
   ]
  },
  {
   "cell_type": "code",
   "execution_count": 22,
   "metadata": {},
   "outputs": [],
   "source": [
    "@timer\n",
    "@logging_decorator\n",
    "@register\n",
    "def factorial(n):\n",
    "    if n < 0:\n",
    "        print(\"value error\")\n",
    "    elif n == 0:\n",
    "        return 1\n",
    "    else:\n",
    "        result = 1\n",
    "        for i in range(1, n + 1):\n",
    "            result *= i\n",
    "        return result"
   ]
  },
  {
   "cell_type": "code",
   "execution_count": 23,
   "metadata": {},
   "outputs": [],
   "source": [
    "@timer\n",
    "@logging_decorator\n",
    "@register\n",
    "def add_nums(a,b):\n",
    "    return a + b"
   ]
  },
  {
   "cell_type": "code",
   "execution_count": 24,
   "metadata": {},
   "outputs": [
    {
     "data": {
      "text/plain": [
       "{'factorial': <function __main__.factorial(n)>,\n",
       " 'add_nums': <function __main__.add_nums(a, b)>}"
      ]
     },
     "execution_count": 24,
     "metadata": {},
     "output_type": "execute_result"
    }
   ],
   "source": [
    "PLUGINS"
   ]
  },
  {
   "cell_type": "markdown",
   "metadata": {},
   "source": [
    "### » Advanced decorators"
   ]
  },
  {
   "cell_type": "markdown",
   "metadata": {},
   "source": [
    "#### »» Decorating Classes"
   ]
  },
  {
   "cell_type": "markdown",
   "metadata": {},
   "source": [
    "Python in-built decorators exist: @classmethos @staticmethod @property\n",
    "\n",
    "@property :  \n",
    "- property decorator acts as a getter method, which then enables .setter and .deleter methods\n",
    "\n",
    "- so when we use @property method on a function, we are telling the code that this is an attribute of that object/instance \n",
    "\n",
    "    - thereby converting functions into methods accessible via . notation as attributes \n",
    "       - ex:   \n",
    "       my_object.setState = new_state_value   \n",
    "       _which then gets translated internally into_   \n",
    "       setState.setter(self, new_state_value)  \n",
    "    - this allows us to secretly run our custom code  \n",
    "- "
   ]
  },
  {
   "cell_type": "code",
   "execution_count": 25,
   "metadata": {},
   "outputs": [],
   "source": [
    "class Student:\n",
    "    def __init__(self, firstName, lastName, status):\n",
    "        self.firstName = firstName\n",
    "        self.lastName = lastName\n",
    "        self.status = status\n",
    "        \n",
    "    @property\n",
    "    def status(self):\n",
    "        \"\"\"Get value of status\"\"\"\n",
    "        return self._status                             # '_' before radius is common python convention to indicate that radius is an internal or protected attribute of the class\n",
    "                                                        # i.e. intended for internal use by the class's methods and shouldn't generally be accessed or modified directly from outside the class\n",
    "                                                        \n",
    "    @status.setter\n",
    "    def status(self, value):\n",
    "        allowed = [\"Enrolled\", \"Active\", \"Inactive\", \"Graduated\"]\n",
    "        if value in allowed:\n",
    "            self._status = value\n",
    "        else:\n",
    "            raise ValueError(f\"should be these only: {allowed}\")\n",
    "    \n",
    "    @status.deleter\n",
    "    def status(self):\n",
    "        self._status = ''\n",
    "    \n",
    "    @property                                           # Properties act as attributes that provide controlled access (get, set, delete) to an object's state, often with hidden logic like validation.\n",
    "    def firstName(self):\n",
    "        \"\"\"Get value of firstName\"\"\"\n",
    "        return self._firstName\n",
    "    \n",
    "    @firstName.setter\n",
    "    def firstName(self, value):\n",
    "        if type(value) == str:\n",
    "            self._firstName = value\n",
    "        else:\n",
    "            raise ValueError(\"not a string\")\n",
    "        \n",
    "    \n",
    "    @property\n",
    "    def lastName(self):\n",
    "        \"\"\"Get value of lastName\"\"\"\n",
    "        return self._lastName\n",
    "    \n",
    "    @lastName.setter\n",
    "    def lastName(self, value):\n",
    "        if isinstance(value, str):                          # better Pythonic usage\n",
    "            self._lastName = value\n",
    "        else:\n",
    "            raise ValueError(\"not a string\")\n",
    "    \n",
    "    \n",
    "    @classmethod\n",
    "    def CreateEnrolledStudent(cls, firstName, lastName):\n",
    "        \"\"\" creates an instance for a new student with enrolled status\n",
    "        \"\"\"\n",
    "        return cls(firstName, lastName, \"Enrolled\")\n",
    "    \n",
    "    \n",
    "    def get_fullname(self):                                  # Instance methods allow for complex actions or behaviors to be performed by an object,\n",
    "        return f\"{self.firstName} {self.lastName}\"           # potentially taking arguments and modifying the object's state.\n",
    "    \n",
    "    @staticmethod\n",
    "    def get_status_description(status_code):                 # logically belong to student but don't need access to specific student instances (self) or the Student class itself (cls)\n",
    "        descriptions = {\n",
    "            \"Enrolled\": \"Currently registered for a class\",\n",
    "            \"Active\": \"Active student, but not enrolled\",\n",
    "            \"Inactive\": \"Has student status, but did not enroll for classes over the last 2Q's\",\n",
    "            \"Graduated\": \"completed all their coursework\"\n",
    "        }\n",
    "        return descriptions[status_code] if status_code in descriptions.keys() else f'{status_code} is not found in catalog'                # single line conditional expression usage is very pythonic\n",
    "        "
   ]
  },
  {
   "cell_type": "code",
   "execution_count": 26,
   "metadata": {},
   "outputs": [
    {
     "name": "stdout",
     "output_type": "stream",
     "text": [
      "Saran Pavuluri : Enrolled\n"
     ]
    }
   ],
   "source": [
    "student2 = Student.CreateEnrolledStudent('Saran','Pavuluri')\n",
    "\n",
    "print(f\"{student2.get_fullname()} : {student2.status}\")"
   ]
  },
  {
   "cell_type": "code",
   "execution_count": 27,
   "metadata": {},
   "outputs": [
    {
     "ename": "ValueError",
     "evalue": "should be these only: ['Enrolled', 'Active', 'Inactive', 'Graduated']",
     "output_type": "error",
     "traceback": [
      "\u001b[31m---------------------------------------------------------------------------\u001b[39m",
      "\u001b[31mValueError\u001b[39m                                Traceback (most recent call last)",
      "\u001b[36mCell\u001b[39m\u001b[36m \u001b[39m\u001b[32mIn[27]\u001b[39m\u001b[32m, line 1\u001b[39m\n\u001b[32m----> \u001b[39m\u001b[32m1\u001b[39m student2 = \u001b[43mStudent\u001b[49m\u001b[43m(\u001b[49m\u001b[33;43m'\u001b[39;49m\u001b[33;43mSaran\u001b[39;49m\u001b[33;43m'\u001b[39;49m\u001b[43m,\u001b[49m\u001b[33;43m'\u001b[39;49m\u001b[33;43mPavuluri\u001b[39;49m\u001b[33;43m'\u001b[39;49m\u001b[43m,\u001b[49m\u001b[43m \u001b[49m\u001b[32;43m444\u001b[39;49m\u001b[43m)\u001b[49m\n",
      "\u001b[36mCell\u001b[39m\u001b[36m \u001b[39m\u001b[32mIn[25]\u001b[39m\u001b[32m, line 5\u001b[39m, in \u001b[36mStudent.__init__\u001b[39m\u001b[34m(self, firstName, lastName, status)\u001b[39m\n\u001b[32m      3\u001b[39m \u001b[38;5;28mself\u001b[39m.firstName = firstName\n\u001b[32m      4\u001b[39m \u001b[38;5;28mself\u001b[39m.lastName = lastName\n\u001b[32m----> \u001b[39m\u001b[32m5\u001b[39m \u001b[38;5;28;43mself\u001b[39;49m\u001b[43m.\u001b[49m\u001b[43mstatus\u001b[49m = status\n",
      "\u001b[36mCell\u001b[39m\u001b[36m \u001b[39m\u001b[32mIn[25]\u001b[39m\u001b[32m, line 19\u001b[39m, in \u001b[36mStudent.status\u001b[39m\u001b[34m(self, value)\u001b[39m\n\u001b[32m     17\u001b[39m     \u001b[38;5;28mself\u001b[39m._status = value\n\u001b[32m     18\u001b[39m \u001b[38;5;28;01melse\u001b[39;00m:\n\u001b[32m---> \u001b[39m\u001b[32m19\u001b[39m     \u001b[38;5;28;01mraise\u001b[39;00m \u001b[38;5;167;01mValueError\u001b[39;00m(\u001b[33mf\u001b[39m\u001b[33m\"\u001b[39m\u001b[33mshould be these only: \u001b[39m\u001b[38;5;132;01m{\u001b[39;00mallowed\u001b[38;5;132;01m}\u001b[39;00m\u001b[33m\"\u001b[39m)\n",
      "\u001b[31mValueError\u001b[39m: should be these only: ['Enrolled', 'Active', 'Inactive', 'Graduated']"
     ]
    }
   ],
   "source": [
    "student2 = Student('Saran','Pavuluri', 444)\n"
   ]
  },
  {
   "cell_type": "code",
   "execution_count": 28,
   "metadata": {},
   "outputs": [
    {
     "data": {
      "text/plain": [
       "''"
      ]
     },
     "execution_count": 28,
     "metadata": {},
     "output_type": "execute_result"
    }
   ],
   "source": [
    "del student2.status\n",
    "\n",
    "student2.status"
   ]
  },
  {
   "cell_type": "code",
   "execution_count": 29,
   "metadata": {},
   "outputs": [
    {
     "name": "stdout",
     "output_type": "stream",
     "text": [
      "Saran Pavuluri : \n"
     ]
    }
   ],
   "source": [
    "print(f\"{student2.get_fullname()} : {student2.status}\")"
   ]
  },
  {
   "cell_type": "code",
   "execution_count": 30,
   "metadata": {},
   "outputs": [
    {
     "name": "stdout",
     "output_type": "stream",
     "text": [
      "Currently registered for a class\n"
     ]
    }
   ],
   "source": [
    "print(Student.get_status_description(\"Enrolled\"))"
   ]
  },
  {
   "cell_type": "code",
   "execution_count": 31,
   "metadata": {},
   "outputs": [
    {
     "name": "stdout",
     "output_type": "stream",
     "text": [
      "debarred is not found in catalog\n"
     ]
    }
   ],
   "source": [
    "print(Student.get_status_description(\"debarred\"))"
   ]
  },
  {
   "cell_type": "markdown",
   "metadata": {},
   "source": [
    "#### »» Decorators with aruguments"
   ]
  },
  {
   "cell_type": "code",
   "execution_count": 32,
   "metadata": {},
   "outputs": [],
   "source": [
    "import functools\n",
    "\n",
    "class CurrentUser:\n",
    "    \n",
    "    \"\"\"\n",
    "     In this usecase, we are not trying to create an instance of the class, instead we are setting attributes to the class itself \n",
    "     as this usecase postulates for a single user state change leading to access/no access decisions \n",
    "     \n",
    "     so we would not need a __init__ because we are not aiming to create an object of this class\n",
    "     \n",
    "     earlier when instances were created, status was an attribute to the object created, but now its a class method\n",
    "     \n",
    "     now in the functions we declare, we would call the class using 'cls' instead of 'self' which earlier defined the object/instance\n",
    "    \n",
    "    \"\"\"\n",
    "    \n",
    "    _user_status = None                                                                         # lets initialize the class variable to None\n",
    "    _allowed_roles = ['Editor', 'Author', 'Admin', 'Viewer', 'Guest']\n",
    "    \n",
    "    \n",
    "    # def __init__(self, status):\n",
    "    #     self.status = status\n",
    "    \n",
    "    # @property\n",
    "    @classmethod\n",
    "    def get_status(cls):\n",
    "        return cls._user_status if cls._user_status is not None else \"Guest\"\n",
    "    \n",
    "    \n",
    "    # @status.setter\n",
    "    @classmethod\n",
    "    def set_status(cls, value):\n",
    "        if value in cls._allowed_roles:\n",
    "            cls._user_status = value\n",
    "        else:\n",
    "            raise ValueError(f'{value} not in {cls._allowed_roles}')\n",
    "\n",
    "\n",
    "def get_user_role():\n",
    "    \n",
    "    return CurrentUser.get_status()             # access the current state from the class using the get_status method\n",
    "\n",
    "        \n",
    "\n",
    "def requires_role(required_role):            # usually decorator functions are decorator_name(): and nested inside is a wrapper()\n",
    "                                # but in decorator(with arguments), you need to nest decorator inside a decoratory factory, in this case requies_role()\n",
    "    \n",
    "    def decorator(func):\n",
    "        \n",
    "        @functools.wraps(func)\n",
    "        def wrapper(*args, **kwargs):\n",
    "            user_role = get_user_role()\n",
    "            if user_role == required_role:\n",
    "                print(f\"Access granted for '{user_role} role to '{func.__name__}'\")\n",
    "                return func(*args, **kwargs)\n",
    "            else:\n",
    "                print(f\"access denied for {user_role} does not meet required role {required_role}\")\n",
    "                return 'no access'\n",
    "        return wrapper\n",
    "    return decorator\n",
    "        \n",
    "\n",
    "@requires_role(\"Admin\")\n",
    "def view_admin_dashboard():\n",
    "    return \"Welcome to the Admin Dashboard\"\n",
    "    \n",
    "\n",
    "@requires_role(\"Editor\")\n",
    "def view_draft_reports():\n",
    "    return \"welcome to draft report panel\"\n",
    "\n"
   ]
  },
  {
   "cell_type": "code",
   "execution_count": 33,
   "metadata": {},
   "outputs": [
    {
     "name": "stdout",
     "output_type": "stream",
     "text": [
      "Guest\n"
     ]
    }
   ],
   "source": [
    "print(CurrentUser.get_status())"
   ]
  },
  {
   "cell_type": "markdown",
   "metadata": {},
   "source": [
    "Since a Guest, he shouldn't be able to access admin or draft reports panel, lets check"
   ]
  },
  {
   "cell_type": "code",
   "execution_count": 34,
   "metadata": {},
   "outputs": [
    {
     "name": "stdout",
     "output_type": "stream",
     "text": [
      "access denied for Guest does not meet required role Admin\n",
      "no access\n",
      "\n",
      "access denied for Guest does not meet required role Editor\n",
      "no access\n"
     ]
    }
   ],
   "source": [
    "print(f\"{view_admin_dashboard()}\\n\")\n",
    "\n",
    "print(view_draft_reports())"
   ]
  },
  {
   "cell_type": "code",
   "execution_count": 35,
   "metadata": {},
   "outputs": [
    {
     "name": "stdout",
     "output_type": "stream",
     "text": [
      "Access granted for 'Editor role to 'view_draft_reports'\n",
      "welcome to draft report panel\n",
      "\n",
      "access denied for Editor does not meet required role Admin\n",
      "no access\n"
     ]
    }
   ],
   "source": [
    "# lets change the status to editor\n",
    "CurrentUser.set_status('Editor')\n",
    "\n",
    "print(f'{view_draft_reports()}\\n')\n",
    "print(f'{view_admin_dashboard()}')"
   ]
  },
  {
   "cell_type": "code",
   "execution_count": 36,
   "metadata": {},
   "outputs": [
    {
     "name": "stdout",
     "output_type": "stream",
     "text": [
      "Access granted for 'Admin role to 'view_admin_dashboard'\n",
      "Welcome to the Admin Dashboard\n",
      "\n",
      "access denied for Admin does not meet required role Editor\n",
      "no access\n"
     ]
    }
   ],
   "source": [
    "CurrentUser.set_status('Admin')\n",
    "\n",
    "print(f'{view_admin_dashboard()}\\n')\n",
    "print(f\"{view_draft_reports()}\")"
   ]
  },
  {
   "cell_type": "markdown",
   "metadata": {},
   "source": [
    "#### »» Tracking state in Decorators"
   ]
  },
  {
   "cell_type": "code",
   "execution_count": 37,
   "metadata": {},
   "outputs": [],
   "source": [
    "import functools\n",
    "\n",
    "def count_calls(func):                                      # decorator function \n",
    "    \n",
    "    @functools.wraps(func)                                  # functools copies key info about the original function\n",
    "    def wrapper(*args, **kwargs):                           # Wrapper function logic - everytime a funciton is decorated with @count_calls, a new distinct wrapper function object is created\n",
    "        \n",
    "        wrapper.num_calls += 1\n",
    "        print(f\"Call {wrapper.num_calls} of {func.__name__}()\")\n",
    "        return func(*args, **kwargs)\n",
    "    wrapper.num_calls = 0                                   # now that we created a function object, we initiate its num_calls attribute to 0, to be used as a counter for state\n",
    "    return wrapper"
   ]
  },
  {
   "cell_type": "code",
   "execution_count": 38,
   "metadata": {},
   "outputs": [],
   "source": [
    "@count_calls\n",
    "def say_hello():\n",
    "    print(\"Hello!\")"
   ]
  },
  {
   "cell_type": "code",
   "execution_count": 39,
   "metadata": {},
   "outputs": [
    {
     "name": "stdout",
     "output_type": "stream",
     "text": [
      "Call 1 of say_hello()\n",
      "Hello!\n"
     ]
    }
   ],
   "source": [
    "say_hello()"
   ]
  },
  {
   "cell_type": "code",
   "execution_count": 40,
   "metadata": {},
   "outputs": [
    {
     "name": "stdout",
     "output_type": "stream",
     "text": [
      "Call 2 of say_hello()\n",
      "Hello!\n"
     ]
    }
   ],
   "source": [
    "say_hello()"
   ]
  },
  {
   "cell_type": "code",
   "execution_count": 41,
   "metadata": {},
   "outputs": [
    {
     "name": "stdout",
     "output_type": "stream",
     "text": [
      "Call 3 of say_hello()\n",
      "Hello!\n"
     ]
    }
   ],
   "source": [
    "say_hello()"
   ]
  },
  {
   "cell_type": "code",
   "execution_count": 42,
   "metadata": {},
   "outputs": [
    {
     "data": {
      "text/plain": [
       "3"
      ]
     },
     "execution_count": 42,
     "metadata": {},
     "output_type": "execute_result"
    }
   ],
   "source": [
    "say_hello.num_calls                                 # now since say_hello is actually an instance of object wrapper, we can use .num_calls as attribute to get the state"
   ]
  },
  {
   "cell_type": "markdown",
   "metadata": {},
   "source": [
    "#### »» Define classes that act as decorators"
   ]
  },
  {
   "cell_type": "code",
   "execution_count": null,
   "metadata": {},
   "outputs": [],
   "source": []
  },
  {
   "cell_type": "markdown",
   "metadata": {},
   "source": [
    "### »» Cache as decorator"
   ]
  },
  {
   "cell_type": "code",
   "execution_count": 66,
   "metadata": {},
   "outputs": [],
   "source": [
    "def cache(func):\n",
    "    \n",
    "    @functools.wraps(func)\n",
    "    def wrapper(*args, **kwargs):\n",
    "        cache_key = args + tuple(kwargs.items())\n",
    "        if cache_key not in wrapper.cache:\n",
    "            wrapper.cache[cache_key] = func(*args, **kwargs)\n",
    "        return wrapper.cache[cache_key]\n",
    "    wrapper.cache = {}    \n",
    "    return wrapper"
   ]
  },
  {
   "cell_type": "code",
   "execution_count": 67,
   "metadata": {},
   "outputs": [],
   "source": [
    "@cache\n",
    "@count_calls\n",
    "def fibonacci(num):\n",
    "    if num < 2:\n",
    "        return num\n",
    "    return fibonacci(num - 1) + fibonacci(num - 2)"
   ]
  },
  {
   "cell_type": "code",
   "execution_count": 68,
   "metadata": {},
   "outputs": [
    {
     "name": "stdout",
     "output_type": "stream",
     "text": [
      "Call 1 of fibonacci()\n",
      "Call 2 of fibonacci()\n",
      "Call 3 of fibonacci()\n",
      "Call 4 of fibonacci()\n",
      "Call 5 of fibonacci()\n",
      "Call 6 of fibonacci()\n",
      "Call 7 of fibonacci()\n",
      "Call 8 of fibonacci()\n",
      "Call 9 of fibonacci()\n",
      "Call 10 of fibonacci()\n",
      "Call 11 of fibonacci()\n"
     ]
    },
    {
     "data": {
      "text/plain": [
       "55"
      ]
     },
     "execution_count": 68,
     "metadata": {},
     "output_type": "execute_result"
    }
   ],
   "source": [
    "fibonacci(10)"
   ]
  },
  {
   "cell_type": "code",
   "execution_count": 69,
   "metadata": {},
   "outputs": [
    {
     "data": {
      "text/plain": [
       "21"
      ]
     },
     "execution_count": 69,
     "metadata": {},
     "output_type": "execute_result"
    }
   ],
   "source": [
    "fibonacci(8)                # completely from the cache memory"
   ]
  },
  {
   "cell_type": "code",
   "execution_count": 70,
   "metadata": {},
   "outputs": [
    {
     "name": "stdout",
     "output_type": "stream",
     "text": [
      "Call 12 of fibonacci()\n",
      "Call 13 of fibonacci()\n"
     ]
    },
    {
     "data": {
      "text/plain": [
       "144"
      ]
     },
     "execution_count": 70,
     "metadata": {},
     "output_type": "execute_result"
    }
   ],
   "source": [
    "fibonacci(12)"
   ]
  },
  {
   "cell_type": "markdown",
   "metadata": {},
   "source": [
    "__But standard practice is to use inbuilt cache decorators from functools__"
   ]
  },
  {
   "cell_type": "code",
   "execution_count": 71,
   "metadata": {},
   "outputs": [],
   "source": [
    "import functools\n",
    "\n",
    "@functools.lru_cache(maxsize = 4)\n",
    "def fibonacci(num):\n",
    "    if num < 2:\n",
    "        value = num\n",
    "    else:\n",
    "        value = fibonacci(num - 1) + fibonacci(num - 2)\n",
    "    print(f\"Calculated fibonacci({num}) = {value}\")\n",
    "    return value"
   ]
  },
  {
   "cell_type": "code",
   "execution_count": 72,
   "metadata": {},
   "outputs": [
    {
     "name": "stdout",
     "output_type": "stream",
     "text": [
      "Calculated fibonacci(1) = 1\n",
      "Calculated fibonacci(0) = 0\n",
      "Calculated fibonacci(2) = 1\n",
      "Calculated fibonacci(3) = 2\n",
      "Calculated fibonacci(4) = 3\n",
      "Calculated fibonacci(5) = 5\n",
      "Calculated fibonacci(6) = 8\n",
      "Calculated fibonacci(7) = 13\n",
      "Calculated fibonacci(8) = 21\n",
      "Calculated fibonacci(9) = 34\n",
      "Calculated fibonacci(10) = 55\n",
      "Calculated fibonacci(11) = 89\n",
      "Calculated fibonacci(12) = 144\n",
      "Calculated fibonacci(13) = 233\n",
      "Calculated fibonacci(14) = 377\n",
      "Calculated fibonacci(15) = 610\n",
      "Calculated fibonacci(16) = 987\n",
      "Calculated fibonacci(17) = 1597\n",
      "Calculated fibonacci(18) = 2584\n",
      "Calculated fibonacci(19) = 4181\n",
      "Calculated fibonacci(20) = 6765\n",
      "Calculated fibonacci(21) = 10946\n",
      "Calculated fibonacci(22) = 17711\n",
      "Calculated fibonacci(23) = 28657\n",
      "Calculated fibonacci(24) = 46368\n",
      "Calculated fibonacci(25) = 75025\n"
     ]
    },
    {
     "data": {
      "text/plain": [
       "75025"
      ]
     },
     "execution_count": 72,
     "metadata": {},
     "output_type": "execute_result"
    }
   ],
   "source": [
    "fibonacci(25)"
   ]
  },
  {
   "cell_type": "code",
   "execution_count": 73,
   "metadata": {},
   "outputs": [
    {
     "name": "stdout",
     "output_type": "stream",
     "text": [
      "Calculated fibonacci(26) = 121393\n",
      "Calculated fibonacci(27) = 196418\n",
      "Calculated fibonacci(28) = 317811\n"
     ]
    },
    {
     "data": {
      "text/plain": [
       "317811"
      ]
     },
     "execution_count": 73,
     "metadata": {},
     "output_type": "execute_result"
    }
   ],
   "source": [
    "fibonacci(28)"
   ]
  },
  {
   "cell_type": "code",
   "execution_count": 74,
   "metadata": {},
   "outputs": [
    {
     "data": {
      "text/plain": [
       "CacheInfo(hits=27, misses=29, maxsize=4, currsize=4)"
      ]
     },
     "execution_count": 74,
     "metadata": {},
     "output_type": "execute_result"
    }
   ],
   "source": [
    "fibonacci.cache_info()                      # hits - #times retrieved from memory \n",
    "                                            # misses - #times not found in cache, \n",
    "                                            # maxsize - 4 recent calls are saved \n",
    "                                            # currsize - currently held values (high mark is maxsize for this)"
   ]
  },
  {
   "cell_type": "code",
   "execution_count": 75,
   "metadata": {},
   "outputs": [
    {
     "name": "stdout",
     "output_type": "stream",
     "text": [
      "Calculated fibonacci(1) = 1\n",
      "Calculated fibonacci(0) = 0\n",
      "Calculated fibonacci(2) = 1\n",
      "Calculated fibonacci(3) = 2\n",
      "Calculated fibonacci(4) = 3\n",
      "Calculated fibonacci(5) = 5\n",
      "Calculated fibonacci(6) = 8\n",
      "Calculated fibonacci(7) = 13\n",
      "Calculated fibonacci(8) = 21\n",
      "Calculated fibonacci(9) = 34\n",
      "Calculated fibonacci(10) = 55\n"
     ]
    },
    {
     "data": {
      "text/plain": [
       "55"
      ]
     },
     "execution_count": 75,
     "metadata": {},
     "output_type": "execute_result"
    }
   ],
   "source": [
    "fibonacci(10)                               #since only four recent calls are saved (fibonacci of 28, 27, 26, and 25 before this is run)"
   ]
  },
  {
   "cell_type": "markdown",
   "metadata": {},
   "source": [
    "## » My examples"
   ]
  },
  {
   "cell_type": "markdown",
   "metadata": {},
   "source": [
    "### »» Error Handling"
   ]
  },
  {
   "cell_type": "code",
   "execution_count": 43,
   "metadata": {},
   "outputs": [],
   "source": [
    "import functools\n",
    "\n",
    "def exceptionHandler(func):\n",
    "    \n",
    "    @functools.wraps(func)\n",
    "    def wrangler(*args, **kwargs):\n",
    "        try:\n",
    "            return func(*args, **kwargs)\n",
    "        except Exception as e:\n",
    "            print(f\"Error cause in {func.__name__}: {e}\")\n",
    "            raise\n",
    "    return wrangler"
   ]
  },
  {
   "cell_type": "code",
   "execution_count": 44,
   "metadata": {},
   "outputs": [],
   "source": [
    "\n",
    "@exceptionHandler\n",
    "def divNums(a,b):\n",
    "    return a/b"
   ]
  },
  {
   "cell_type": "code",
   "execution_count": 45,
   "metadata": {},
   "outputs": [
    {
     "name": "stdout",
     "output_type": "stream",
     "text": [
      "2.0\n"
     ]
    }
   ],
   "source": [
    "result1 = divNums(2,1)\n",
    "\n",
    "print(result1)"
   ]
  },
  {
   "cell_type": "code",
   "execution_count": 46,
   "metadata": {},
   "outputs": [
    {
     "name": "stdout",
     "output_type": "stream",
     "text": [
      "Error cause in divNums: division by zero\n"
     ]
    },
    {
     "ename": "ZeroDivisionError",
     "evalue": "division by zero",
     "output_type": "error",
     "traceback": [
      "\u001b[31m---------------------------------------------------------------------------\u001b[39m",
      "\u001b[31mZeroDivisionError\u001b[39m                         Traceback (most recent call last)",
      "\u001b[36mCell\u001b[39m\u001b[36m \u001b[39m\u001b[32mIn[46]\u001b[39m\u001b[32m, line 1\u001b[39m\n\u001b[32m----> \u001b[39m\u001b[32m1\u001b[39m result2 = \u001b[43mdivNums\u001b[49m\u001b[43m(\u001b[49m\u001b[32;43m2\u001b[39;49m\u001b[43m,\u001b[49m\u001b[32;43m0\u001b[39;49m\u001b[43m)\u001b[49m\n\u001b[32m      3\u001b[39m result2\n",
      "\u001b[36mCell\u001b[39m\u001b[36m \u001b[39m\u001b[32mIn[43]\u001b[39m\u001b[32m, line 8\u001b[39m, in \u001b[36mexceptionHandler.<locals>.wrangler\u001b[39m\u001b[34m(*args, **kwargs)\u001b[39m\n\u001b[32m      5\u001b[39m \u001b[38;5;129m@functools\u001b[39m.wraps(func)\n\u001b[32m      6\u001b[39m \u001b[38;5;28;01mdef\u001b[39;00m\u001b[38;5;250m \u001b[39m\u001b[34mwrangler\u001b[39m(*args, **kwargs):\n\u001b[32m      7\u001b[39m     \u001b[38;5;28;01mtry\u001b[39;00m:\n\u001b[32m----> \u001b[39m\u001b[32m8\u001b[39m         \u001b[38;5;28;01mreturn\u001b[39;00m \u001b[43mfunc\u001b[49m\u001b[43m(\u001b[49m\u001b[43m*\u001b[49m\u001b[43margs\u001b[49m\u001b[43m,\u001b[49m\u001b[43m \u001b[49m\u001b[43m*\u001b[49m\u001b[43m*\u001b[49m\u001b[43mkwargs\u001b[49m\u001b[43m)\u001b[49m\n\u001b[32m      9\u001b[39m     \u001b[38;5;28;01mexcept\u001b[39;00m \u001b[38;5;167;01mException\u001b[39;00m \u001b[38;5;28;01mas\u001b[39;00m e:\n\u001b[32m     10\u001b[39m         \u001b[38;5;28mprint\u001b[39m(\u001b[33mf\u001b[39m\u001b[33m\"\u001b[39m\u001b[33mError cause in \u001b[39m\u001b[38;5;132;01m{\u001b[39;00mfunc.\u001b[34m__name__\u001b[39m\u001b[38;5;132;01m}\u001b[39;00m\u001b[33m: \u001b[39m\u001b[38;5;132;01m{\u001b[39;00me\u001b[38;5;132;01m}\u001b[39;00m\u001b[33m\"\u001b[39m)\n",
      "\u001b[36mCell\u001b[39m\u001b[36m \u001b[39m\u001b[32mIn[44]\u001b[39m\u001b[32m, line 3\u001b[39m, in \u001b[36mdivNums\u001b[39m\u001b[34m(a, b)\u001b[39m\n\u001b[32m      1\u001b[39m \u001b[38;5;129m@exceptionHandler\u001b[39m\n\u001b[32m      2\u001b[39m \u001b[38;5;28;01mdef\u001b[39;00m\u001b[38;5;250m \u001b[39m\u001b[34mdivNums\u001b[39m(a,b):\n\u001b[32m----> \u001b[39m\u001b[32m3\u001b[39m     \u001b[38;5;28;01mreturn\u001b[39;00m \u001b[43ma\u001b[49m\u001b[43m/\u001b[49m\u001b[43mb\u001b[49m\n",
      "\u001b[31mZeroDivisionError\u001b[39m: division by zero"
     ]
    }
   ],
   "source": [
    "result2 = divNums(2,0)\n",
    "\n",
    "result2"
   ]
  },
  {
   "cell_type": "code",
   "execution_count": 47,
   "metadata": {},
   "outputs": [
    {
     "name": "stdout",
     "output_type": "stream",
     "text": [
      "Error cause in divNums: unsupported operand type(s) for /: 'int' and 'str'\n"
     ]
    },
    {
     "ename": "TypeError",
     "evalue": "unsupported operand type(s) for /: 'int' and 'str'",
     "output_type": "error",
     "traceback": [
      "\u001b[31m---------------------------------------------------------------------------\u001b[39m",
      "\u001b[31mTypeError\u001b[39m                                 Traceback (most recent call last)",
      "\u001b[36mCell\u001b[39m\u001b[36m \u001b[39m\u001b[32mIn[47]\u001b[39m\u001b[32m, line 1\u001b[39m\n\u001b[32m----> \u001b[39m\u001b[32m1\u001b[39m result3 = \u001b[43mdivNums\u001b[49m\u001b[43m(\u001b[49m\u001b[32;43m2\u001b[39;49m\u001b[43m,\u001b[49m\u001b[33;43m'\u001b[39;49m\u001b[33;43mb\u001b[39;49m\u001b[33;43m'\u001b[39;49m\u001b[43m)\u001b[49m\n\u001b[32m      3\u001b[39m result3\n",
      "\u001b[36mCell\u001b[39m\u001b[36m \u001b[39m\u001b[32mIn[43]\u001b[39m\u001b[32m, line 8\u001b[39m, in \u001b[36mexceptionHandler.<locals>.wrangler\u001b[39m\u001b[34m(*args, **kwargs)\u001b[39m\n\u001b[32m      5\u001b[39m \u001b[38;5;129m@functools\u001b[39m.wraps(func)\n\u001b[32m      6\u001b[39m \u001b[38;5;28;01mdef\u001b[39;00m\u001b[38;5;250m \u001b[39m\u001b[34mwrangler\u001b[39m(*args, **kwargs):\n\u001b[32m      7\u001b[39m     \u001b[38;5;28;01mtry\u001b[39;00m:\n\u001b[32m----> \u001b[39m\u001b[32m8\u001b[39m         \u001b[38;5;28;01mreturn\u001b[39;00m \u001b[43mfunc\u001b[49m\u001b[43m(\u001b[49m\u001b[43m*\u001b[49m\u001b[43margs\u001b[49m\u001b[43m,\u001b[49m\u001b[43m \u001b[49m\u001b[43m*\u001b[49m\u001b[43m*\u001b[49m\u001b[43mkwargs\u001b[49m\u001b[43m)\u001b[49m\n\u001b[32m      9\u001b[39m     \u001b[38;5;28;01mexcept\u001b[39;00m \u001b[38;5;167;01mException\u001b[39;00m \u001b[38;5;28;01mas\u001b[39;00m e:\n\u001b[32m     10\u001b[39m         \u001b[38;5;28mprint\u001b[39m(\u001b[33mf\u001b[39m\u001b[33m\"\u001b[39m\u001b[33mError cause in \u001b[39m\u001b[38;5;132;01m{\u001b[39;00mfunc.\u001b[34m__name__\u001b[39m\u001b[38;5;132;01m}\u001b[39;00m\u001b[33m: \u001b[39m\u001b[38;5;132;01m{\u001b[39;00me\u001b[38;5;132;01m}\u001b[39;00m\u001b[33m\"\u001b[39m)\n",
      "\u001b[36mCell\u001b[39m\u001b[36m \u001b[39m\u001b[32mIn[44]\u001b[39m\u001b[32m, line 3\u001b[39m, in \u001b[36mdivNums\u001b[39m\u001b[34m(a, b)\u001b[39m\n\u001b[32m      1\u001b[39m \u001b[38;5;129m@exceptionHandler\u001b[39m\n\u001b[32m      2\u001b[39m \u001b[38;5;28;01mdef\u001b[39;00m\u001b[38;5;250m \u001b[39m\u001b[34mdivNums\u001b[39m(a,b):\n\u001b[32m----> \u001b[39m\u001b[32m3\u001b[39m     \u001b[38;5;28;01mreturn\u001b[39;00m \u001b[43ma\u001b[49m\u001b[43m/\u001b[49m\u001b[43mb\u001b[49m\n",
      "\u001b[31mTypeError\u001b[39m: unsupported operand type(s) for /: 'int' and 'str'"
     ]
    }
   ],
   "source": [
    "result3 = divNums(2,'b')\n",
    "\n",
    "result3"
   ]
  },
  {
   "cell_type": "markdown",
   "metadata": {},
   "source": [
    "### »» Class decorator example"
   ]
  },
  {
   "cell_type": "code",
   "execution_count": 48,
   "metadata": {},
   "outputs": [],
   "source": [
    "class Phone:\n",
    "    \n",
    "    def __init__(self, brandNm, modelNm, yearRel):\n",
    "        self.brandNm = brandNm\n",
    "        self.modelNm = modelNm\n",
    "        self.yearRel  = yearRel\n",
    "    \n",
    "    @property\n",
    "    def brandNm(self):\n",
    "        return self._brandNm\n",
    "    \n",
    "    @brandNm.setter\n",
    "    def brandNm(self, value):\n",
    "        self._brandNm = value\n",
    "        \n",
    "    @brandNm.deleter\n",
    "    def brandNm(self):\n",
    "        self._brandNm = ''\n",
    "    \n",
    "    @property\n",
    "    def modelNm(self):\n",
    "        return self._modelNm\n",
    "    \n",
    "    @modelNm.setter\n",
    "    def modelNm(self, value):\n",
    "        self._modelNm = value\n",
    "        \n",
    "    @modelNm.deleter\n",
    "    def modelNm(self):\n",
    "        self._modelNm = ''\n",
    "    \n",
    "    @property\n",
    "    def yearRel(self):\n",
    "        return self._yearRel\n",
    "    \n",
    "    @yearRel.setter\n",
    "    def yearRel(self, value):\n",
    "        self._yearRel = value\n",
    "    \n",
    "    @yearRel.deleter\n",
    "    def yearRel(self):\n",
    "        self._yearRel = ''\n",
    "    "
   ]
  },
  {
   "cell_type": "code",
   "execution_count": 49,
   "metadata": {},
   "outputs": [
    {
     "name": "stdout",
     "output_type": "stream",
     "text": [
      "brand name: Samsung\n",
      "model name: S9\n",
      "yearRel: 2014\n"
     ]
    }
   ],
   "source": [
    "Phone1 = Phone('Samsung', 'S9', 2014)\n",
    "\n",
    "print(f\"brand name: {Phone1.brandNm}\\nmodel name: {Phone1.modelNm}\\nyearRel: {Phone1.yearRel}\")"
   ]
  },
  {
   "cell_type": "code",
   "execution_count": 50,
   "metadata": {},
   "outputs": [
    {
     "data": {
      "text/plain": [
       "''"
      ]
     },
     "execution_count": 50,
     "metadata": {},
     "output_type": "execute_result"
    }
   ],
   "source": [
    "del Phone1.yearRel                                                  # deleter\n",
    "\n",
    "Phone1.yearRel"
   ]
  },
  {
   "cell_type": "code",
   "execution_count": null,
   "metadata": {},
   "outputs": [],
   "source": []
  },
  {
   "cell_type": "code",
   "execution_count": null,
   "metadata": {},
   "outputs": [],
   "source": []
  }
 ],
 "metadata": {
  "kernelspec": {
   "display_name": "venv",
   "language": "python",
   "name": "python3"
  },
  "language_info": {
   "codemirror_mode": {
    "name": "ipython",
    "version": 3
   },
   "file_extension": ".py",
   "mimetype": "text/x-python",
   "name": "python",
   "nbconvert_exporter": "python",
   "pygments_lexer": "ipython3",
   "version": "3.12.7"
  }
 },
 "nbformat": 4,
 "nbformat_minor": 2
}
