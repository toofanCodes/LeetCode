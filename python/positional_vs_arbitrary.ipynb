{
 "cells": [
  {
   "cell_type": "markdown",
   "metadata": {},
   "source": [
    "- Positional Arguments: passed by position  \n",
    "    - when argument names might chane in future versions but their position is stable\n",
    "    - for API functions where clarity about positional usage is paramount\n",
    "\n",
    "- use (/) to separate the top one from the bottom ones\n",
    "    \n",
    "- Positional or Keyword Arguments (Normal arguments): passed by position or keywords\n",
    "    - most regularly used - you can give just param, or param = default_value\n",
    "\n",
    "- Arbitrary Positional Arguments(*args) : Fathers any remaining positional arguments into a tuple\n",
    "    - when no of pos arguments is not certain\n",
    "    - for forwarding arguments to another function\n",
    "\n",
    "- Keyword-only Arguments (* or after *args): Arguments after bare * or after *args must be passed by keyword. these can have default values.\n",
    "    - for optional flags\n",
    "    - for parameters that enhance readability when their name is explicit\n",
    "    - \n",
    "- Arbitrary Keyword Arguments (**kwargs): Gathers any remaining keyword arguments into a dictionary "
   ]
  },
  {
   "cell_type": "markdown",
   "metadata": {},
   "source": [
    "Without anything being defined (i.e. without these: /, *, **), every argument is considered positional-or-keyword argument. \n",
    "\n",
    "_this means they can be called either by position in the function call or by explictly naming them as keywords, providing flexibility for caller_"
   ]
  },
  {
   "cell_type": "code",
   "execution_count": null,
   "metadata": {},
   "outputs": [],
   "source": [
    "def load_and_process_data(\n",
    "    file_path,          # 1. Positional only (required) - so a path string\n",
    "    /,                  # 2. Positional-only separator\n",
    "    \n",
    "    data_format = \"csv\",   # 3. Positional-or-keyword with default - can be 'json' or data_format = 'json' or default value\n",
    "    \n",
    "    *additional_sources,    # 4. Arbitrary positional arguments - multiple args taken into a tuple\n",
    "    normalize_columns = False, # 5. Keyword-only argument with default \n",
    "    \n",
    "    output_path = None,         # 6. Keyword-only argument with default\n",
    "    **extra_config              # 7. Arbitrary keyword arguments\n",
    "):\n",
    "    print()"
   ]
  },
  {
   "cell_type": "markdown",
   "metadata": {},
   "source": [
    "Some obervations:\n",
    "- In this function, if I just say load_and_process_data('path', 'json', True) used, would True be taken as *args\n",
    "- so in order to pass values through normalize_columns or output_path, it has to be clearly said so with normalize_columns = True etc\n"
   ]
  },
  {
   "cell_type": "markdown",
   "metadata": {},
   "source": [
    "## » *args:"
   ]
  },
  {
   "cell_type": "markdown",
   "metadata": {},
   "source": [
    "when you do not know how many values will be passed, you can use *args  \n",
    "\n",
    "here *args is a positional value  \n",
    "» what happens is all positional values passed through the function will be stored in a tuple, and allowing for iterative operations on them  "
   ]
  },
  {
   "cell_type": "code",
   "execution_count": 1,
   "metadata": {},
   "outputs": [],
   "source": [
    "def sum_nums(*nums):\n",
    "    print(f\"Type of items is {type(nums)}\\n\")\n",
    "    print(f\"value in items is {nums}\")\n",
    "    \n",
    "    sumOf = 0\n",
    "    \n",
    "    for i in nums:\n",
    "        sumOf += i \n",
    "    return sumOf"
   ]
  },
  {
   "cell_type": "code",
   "execution_count": 2,
   "metadata": {},
   "outputs": [
    {
     "name": "stdout",
     "output_type": "stream",
     "text": [
      "Type of items is <class 'tuple'>\n",
      "\n",
      "value in items is (0,)\n",
      "Sum value is: 0\n"
     ]
    }
   ],
   "source": [
    "result1 = sum_nums(0)\n",
    "print(f\"Sum value is: {result1}\")"
   ]
  },
  {
   "cell_type": "code",
   "execution_count": 3,
   "metadata": {},
   "outputs": [
    {
     "name": "stdout",
     "output_type": "stream",
     "text": [
      "Type of items is <class 'tuple'>\n",
      "\n",
      "value in items is (1, 2)\n",
      "Sum value is: 3\n"
     ]
    }
   ],
   "source": [
    "result2 = sum_nums(1,2)\n",
    "print(f\"Sum value is: {result2}\")"
   ]
  },
  {
   "cell_type": "code",
   "execution_count": 4,
   "metadata": {},
   "outputs": [
    {
     "name": "stdout",
     "output_type": "stream",
     "text": [
      "Type of items is <class 'tuple'>\n",
      "\n",
      "value in items is (1, 2, 3, 4, 5, 6, 7)\n",
      "Sum value is: 28\n"
     ]
    }
   ],
   "source": [
    "result3 = sum_nums(1,2,3,4,5,6,7)\n",
    "print(f\"Sum value is: {result3}\")"
   ]
  },
  {
   "cell_type": "markdown",
   "metadata": {},
   "source": [
    "## » **kwargs:"
   ]
  },
  {
   "cell_type": "code",
   "execution_count": 5,
   "metadata": {},
   "outputs": [],
   "source": [
    "def print_user_details(**details):\n",
    "    \n",
    "    if details:\n",
    "        print(\"Addl details:\")\n",
    "        for key, value in details.items():\n",
    "            formatted_key = ' '.join(word.capitalize() for word in key.split('_'))\n",
    "            print(f\"{formatted_key}: {value}\")"
   ]
  },
  {
   "cell_type": "code",
   "execution_count": 6,
   "metadata": {},
   "outputs": [
    {
     "name": "stdout",
     "output_type": "stream",
     "text": [
      "Addl details:\n",
      "Name: Alice\n"
     ]
    }
   ],
   "source": [
    "print_user_details(name = 'Alice')"
   ]
  },
  {
   "cell_type": "code",
   "execution_count": 7,
   "metadata": {},
   "outputs": [
    {
     "name": "stdout",
     "output_type": "stream",
     "text": [
      "Addl details:\n",
      "Name: Bob\n",
      "Age: 30\n",
      "Guage: 6\n",
      "Height: 180\n"
     ]
    }
   ],
   "source": [
    "print_user_details(name = 'Bob', age=30, guage=6, height=180)"
   ]
  },
  {
   "cell_type": "code",
   "execution_count": 8,
   "metadata": {},
   "outputs": [
    {
     "name": "stdout",
     "output_type": "stream",
     "text": [
      "Addl details:\n",
      "Name: srn\n",
      "Age: 33\n",
      "Height: 172\n",
      "Date Of Birth: 23 mar 1880\n"
     ]
    }
   ],
   "source": [
    "print_user_details(name = 'srn', age = 33, height = 172, date_of_birth = '23 mar 1880')"
   ]
  },
  {
   "cell_type": "code",
   "execution_count": 9,
   "metadata": {},
   "outputs": [
    {
     "name": "stdout",
     "output_type": "stream",
     "text": [
      "error occurred: print_user_details() takes 0 positional arguments but 1 was given\n"
     ]
    }
   ],
   "source": [
    "try:\n",
    "    print_user_details('Alice')                                                 ## since the function takes only arbitrary values, and no positional arguments, it would return an error\n",
    "except Exception as e:\n",
    "    print(f\"error occurred: {e}\")"
   ]
  },
  {
   "cell_type": "markdown",
   "metadata": {},
   "source": [
    "## *args and **kwargs combined"
   ]
  },
  {
   "cell_type": "code",
   "execution_count": 10,
   "metadata": {},
   "outputs": [],
   "source": [
    "# now lets combine them both - what if name becomes positional argument? and lets add one more positional argument too here that would make use of tuple\n",
    "\n",
    "def print_user_details_both(name, sex,                                      # multiple fixed positional arguments --> which are required\n",
    "                            *nums,                                          # arbitrary positional argument collector\n",
    "                            **details):                                     # arbitrary keyword arguments\n",
    "    print(f\"name: {name}\\n\")\n",
    "    print(f\"sex: {sex}\")\n",
    "    \n",
    "    total = 0\n",
    "    for i in nums:\n",
    "        total += i\n",
    "    print(f\"total: {total}\")\n",
    "    \n",
    "    if details:\n",
    "        print(\"\\nAddl. details:\")\n",
    "        for key, value in details.items():\n",
    "            print(f\"{key}: {value}\")"
   ]
  },
  {
   "cell_type": "code",
   "execution_count": 11,
   "metadata": {},
   "outputs": [
    {
     "name": "stdout",
     "output_type": "stream",
     "text": [
      "name: Alice\n",
      "\n",
      "sex: 30\n",
      "total: 0\n"
     ]
    }
   ],
   "source": [
    "print_user_details_both('Alice', 30)"
   ]
  },
  {
   "cell_type": "code",
   "execution_count": 12,
   "metadata": {},
   "outputs": [
    {
     "name": "stdout",
     "output_type": "stream",
     "text": [
      "error occurred:  print_user_details_both() missing 1 required positional argument: 'sex'\n"
     ]
    }
   ],
   "source": [
    "try:\n",
    "    print_user_details_both('Alice')                   ## would return an error because it is expecting two positional arguments.\n",
    "except Exception as e:\n",
    "    print('error occurred: ', e)"
   ]
  },
  {
   "cell_type": "code",
   "execution_count": 13,
   "metadata": {},
   "outputs": [
    {
     "name": "stdout",
     "output_type": "stream",
     "text": [
      "name: Bob\n",
      "\n",
      "sex: 20\n",
      "total: 15\n"
     ]
    }
   ],
   "source": [
    "print_user_details_both('Bob', 20, 1, 2, 3, 4, 5)"
   ]
  },
  {
   "cell_type": "code",
   "execution_count": 14,
   "metadata": {},
   "outputs": [
    {
     "name": "stdout",
     "output_type": "stream",
     "text": [
      "name: Srn\n",
      "\n",
      "sex: 30\n",
      "total: 15\n",
      "\n",
      "Addl. details:\n",
      "size: 33\n",
      "height: 172\n"
     ]
    }
   ],
   "source": [
    "print_user_details_both('Srn', 30, 1, 2, 3, 4, 5, size = 33, height = 172)"
   ]
  },
  {
   "cell_type": "code",
   "execution_count": 15,
   "metadata": {},
   "outputs": [
    {
     "name": "stdout",
     "output_type": "stream",
     "text": [
      "name: krish\n",
      "\n",
      "sex: 40\n",
      "total: 500\n",
      "\n",
      "Addl. details:\n",
      "size: 28\n",
      "height: 180\n",
      "weight: 200\n"
     ]
    }
   ],
   "source": [
    "print_user_details_both('krish', 40, 200,300, size = 28, height = 180, weight = 200)"
   ]
  },
  {
   "cell_type": "code",
   "execution_count": 16,
   "metadata": {},
   "outputs": [
    {
     "data": {
      "text/plain": [
       "{'__name__': '__main__',\n",
       " '__doc__': '\\nNote: all executions are function-scoped as we do not assume the code below executes in an isolated kernel environment.\\n',\n",
       " '__package__': None,\n",
       " '__loader__': None,\n",
       " '__spec__': None,\n",
       " '__builtin__': <module 'builtins' (built-in)>,\n",
       " '__builtins__': <module 'builtins' (built-in)>,\n",
       " '_ih': ['',\n",
       "  'def sum_nums(*nums):\\n    print(f\"Type of items is {type(nums)}\\\\n\")\\n    print(f\"value in items is {nums}\")\\n\\n    sumOf = 0\\n\\n    for i in nums:\\n        sumOf += i \\n    return sumOf',\n",
       "  'result1 = sum_nums(0)\\nprint(f\"Sum value is: {result1}\")',\n",
       "  'result2 = sum_nums(1,2)\\nprint(f\"Sum value is: {result2}\")',\n",
       "  'result3 = sum_nums(1,2,3,4,5,6,7)\\nprint(f\"Sum value is: {result3}\")',\n",
       "  'def print_user_details(**details):\\n\\n    if details:\\n        print(\"Addl details:\")\\n        for key, value in details.items():\\n            formatted_key = \\' \\'.join(word.capitalize() for word in key.split(\\'_\\'))\\n            print(f\"{formatted_key}: {value}\")',\n",
       "  \"print_user_details(name = 'Alice')\",\n",
       "  \"print_user_details(name = 'Bob', age=30, guage=6, height=180)\",\n",
       "  \"print_user_details(name = 'srn', age = 33, height = 172, date_of_birth = '23 mar 1880')\",\n",
       "  'try:\\n    print_user_details(\\'Alice\\')                                                 ## since the function takes only arbitrary values, and no positional arguments, it would return an error\\nexcept Exception as e:\\n    print(f\"error occurred: {e}\")',\n",
       "  '# now lets combine them both - what if name becomes positional argument? and lets add one more positional argument too here that would make use of tuple\\n\\ndef print_user_details_both(name, sex,                                      # multiple fixed positional arguments --> which are required\\n                            *nums,                                          # arbitrary positional argument collector\\n                            **details):                                     # arbitrary keyword arguments\\n    print(f\"name: {name}\\\\n\")\\n    print(f\"sex: {sex}\")\\n\\n    total = 0\\n    for i in nums:\\n        total += i\\n    print(f\"total: {total}\")\\n\\n    if details:\\n        print(\"\\\\nAddl. details:\")\\n        for key, value in details.items():\\n            print(f\"{key}: {value}\")',\n",
       "  \"print_user_details_both('Alice', 30)\",\n",
       "  \"try:\\n    print_user_details_both('Alice')                   ## would return an error because it is expecting two positional arguments.\\nexcept Exception as e:\\n    print('error occurred: ', e)\",\n",
       "  \"print_user_details_both('Bob', 20, 1, 2, 3, 4, 5)\",\n",
       "  \"print_user_details_both('Srn', 30, 1, 2, 3, 4, 5, size = 33, height = 172)\",\n",
       "  \"print_user_details_both('krish', 40, 200,300, size = 28, height = 180, weight = 200)\",\n",
       "  'globals()'],\n",
       " '_oh': {},\n",
       " '_dh': [PosixPath('/Users/toofanmacpro/LeetCode/python')],\n",
       " 'In': ['',\n",
       "  'def sum_nums(*nums):\\n    print(f\"Type of items is {type(nums)}\\\\n\")\\n    print(f\"value in items is {nums}\")\\n\\n    sumOf = 0\\n\\n    for i in nums:\\n        sumOf += i \\n    return sumOf',\n",
       "  'result1 = sum_nums(0)\\nprint(f\"Sum value is: {result1}\")',\n",
       "  'result2 = sum_nums(1,2)\\nprint(f\"Sum value is: {result2}\")',\n",
       "  'result3 = sum_nums(1,2,3,4,5,6,7)\\nprint(f\"Sum value is: {result3}\")',\n",
       "  'def print_user_details(**details):\\n\\n    if details:\\n        print(\"Addl details:\")\\n        for key, value in details.items():\\n            formatted_key = \\' \\'.join(word.capitalize() for word in key.split(\\'_\\'))\\n            print(f\"{formatted_key}: {value}\")',\n",
       "  \"print_user_details(name = 'Alice')\",\n",
       "  \"print_user_details(name = 'Bob', age=30, guage=6, height=180)\",\n",
       "  \"print_user_details(name = 'srn', age = 33, height = 172, date_of_birth = '23 mar 1880')\",\n",
       "  'try:\\n    print_user_details(\\'Alice\\')                                                 ## since the function takes only arbitrary values, and no positional arguments, it would return an error\\nexcept Exception as e:\\n    print(f\"error occurred: {e}\")',\n",
       "  '# now lets combine them both - what if name becomes positional argument? and lets add one more positional argument too here that would make use of tuple\\n\\ndef print_user_details_both(name, sex,                                      # multiple fixed positional arguments --> which are required\\n                            *nums,                                          # arbitrary positional argument collector\\n                            **details):                                     # arbitrary keyword arguments\\n    print(f\"name: {name}\\\\n\")\\n    print(f\"sex: {sex}\")\\n\\n    total = 0\\n    for i in nums:\\n        total += i\\n    print(f\"total: {total}\")\\n\\n    if details:\\n        print(\"\\\\nAddl. details:\")\\n        for key, value in details.items():\\n            print(f\"{key}: {value}\")',\n",
       "  \"print_user_details_both('Alice', 30)\",\n",
       "  \"try:\\n    print_user_details_both('Alice')                   ## would return an error because it is expecting two positional arguments.\\nexcept Exception as e:\\n    print('error occurred: ', e)\",\n",
       "  \"print_user_details_both('Bob', 20, 1, 2, 3, 4, 5)\",\n",
       "  \"print_user_details_both('Srn', 30, 1, 2, 3, 4, 5, size = 33, height = 172)\",\n",
       "  \"print_user_details_both('krish', 40, 200,300, size = 28, height = 180, weight = 200)\",\n",
       "  'globals()'],\n",
       " 'Out': {},\n",
       " 'get_ipython': <bound method InteractiveShell.get_ipython of <ipykernel.zmqshell.ZMQInteractiveShell object at 0x1062ec560>>,\n",
       " 'exit': <IPython.core.autocall.ZMQExitAutocall at 0x106297380>,\n",
       " 'quit': <IPython.core.autocall.ZMQExitAutocall at 0x106297380>,\n",
       " 'open': <function _io.open(file, mode='r', buffering=-1, encoding=None, errors=None, newline=None, closefd=True, opener=None)>,\n",
       " '_': '',\n",
       " '__': '',\n",
       " '___': '',\n",
       " '__vsc_ipynb_file__': '/Users/toofanmacpro/LeetCode/python/positional_vs_arbitrary.ipynb',\n",
       " '__DW_SCOPE__': {'output_cache': {},\n",
       "  'output-81652146-a1c2-4571-ae42-9e776171d94b': {'enable_for_types': <function __main__.__DW_OUTPUT_FORMATTER__.<locals>.enable_formatter_for_types(*args)>,\n",
       "   'disable': <function __main__.__DW_OUTPUT_FORMATTER__.<locals>.disable_formatter()>}},\n",
       " '_i': \"print_user_details_both('krish', 40, 200,300, size = 28, height = 180, weight = 200)\",\n",
       " '_ii': \"print_user_details_both('Srn', 30, 1, 2, 3, 4, 5, size = 33, height = 172)\",\n",
       " '_iii': \"print_user_details_both('Bob', 20, 1, 2, 3, 4, 5)\",\n",
       " '_i1': 'def sum_nums(*nums):\\n    print(f\"Type of items is {type(nums)}\\\\n\")\\n    print(f\"value in items is {nums}\")\\n    \\n    sumOf = 0\\n    \\n    for i in nums:\\n        sumOf += i \\n    return sumOf',\n",
       " 'sum_nums': <function __main__.sum_nums(*nums)>,\n",
       " '_i2': 'result1 = sum_nums(0)\\nprint(f\"Sum value is: {result1}\")',\n",
       " 'result1': 0,\n",
       " '_i3': 'result2 = sum_nums(1,2)\\nprint(f\"Sum value is: {result2}\")',\n",
       " 'result2': 3,\n",
       " '_i4': 'result3 = sum_nums(1,2,3,4,5,6,7)\\nprint(f\"Sum value is: {result3}\")',\n",
       " 'result3': 28,\n",
       " '_i5': 'def print_user_details(**details):\\n    \\n    if details:\\n        print(\"Addl details:\")\\n        for key, value in details.items():\\n            formatted_key = \\' \\'.join(word.capitalize() for word in key.split(\\'_\\'))\\n            print(f\"{formatted_key}: {value}\")',\n",
       " 'print_user_details': <function __main__.print_user_details(**details)>,\n",
       " '_i6': \"print_user_details(name = 'Alice')\",\n",
       " '_i7': \"print_user_details(name = 'Bob', age=30, guage=6, height=180)\",\n",
       " '_i8': \"print_user_details(name = 'srn', age = 33, height = 172, date_of_birth = '23 mar 1880')\",\n",
       " '_i9': 'try:\\n    print_user_details(\\'Alice\\')                                                 ## since the function takes only arbitrary values, and no positional arguments, it would return an error\\nexcept Exception as e:\\n    print(f\"error occurred: {e}\")',\n",
       " '_i10': '# now lets combine them both - what if name becomes positional argument? and lets add one more positional argument too here that would make use of tuple\\n\\ndef print_user_details_both(name, sex,                                      # multiple fixed positional arguments --> which are required\\n                            *nums,                                          # arbitrary positional argument collector\\n                            **details):                                     # arbitrary keyword arguments\\n    print(f\"name: {name}\\\\n\")\\n    print(f\"sex: {sex}\")\\n    \\n    total = 0\\n    for i in nums:\\n        total += i\\n    print(f\"total: {total}\")\\n    \\n    if details:\\n        print(\"\\\\nAddl. details:\")\\n        for key, value in details.items():\\n            print(f\"{key}: {value}\")',\n",
       " 'print_user_details_both': <function __main__.print_user_details_both(name, sex, *nums, **details)>,\n",
       " '_i11': \"print_user_details_both('Alice', 30)\",\n",
       " '_i12': \"try:\\n    print_user_details_both('Alice')                   ## would return an error because it is expecting two positional arguments.\\nexcept Exception as e:\\n    print('error occurred: ', e)\",\n",
       " '_i13': \"print_user_details_both('Bob', 20, 1, 2, 3, 4, 5)\",\n",
       " '_i14': \"print_user_details_both('Srn', 30, 1, 2, 3, 4, 5, size = 33, height = 172)\",\n",
       " '_i15': \"print_user_details_both('krish', 40, 200,300, size = 28, height = 180, weight = 200)\",\n",
       " '_i16': 'globals()'}"
      ]
     },
     "execution_count": 16,
     "metadata": {},
     "output_type": "execute_result"
    }
   ],
   "source": [
    "globals()"
   ]
  },
  {
   "cell_type": "code",
   "execution_count": null,
   "metadata": {},
   "outputs": [],
   "source": []
  }
 ],
 "metadata": {
  "kernelspec": {
   "display_name": "venv",
   "language": "python",
   "name": "python3"
  },
  "language_info": {
   "codemirror_mode": {
    "name": "ipython",
    "version": 3
   },
   "file_extension": ".py",
   "mimetype": "text/x-python",
   "name": "python",
   "nbconvert_exporter": "python",
   "pygments_lexer": "ipython3",
   "version": "3.12.7"
  }
 },
 "nbformat": 4,
 "nbformat_minor": 2
}
