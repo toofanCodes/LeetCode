{
 "cells": [
  {
   "cell_type": "code",
   "execution_count": 1,
   "metadata": {},
   "outputs": [],
   "source": [
    "import pandas as pd\n",
    "from sqlalchemy import create_engine\n",
    "import os"
   ]
  },
  {
   "cell_type": "code",
   "execution_count": 2,
   "metadata": {},
   "outputs": [],
   "source": [
    "%load_ext sql\n",
    "%sql postgresql://toofanmacpro@localhost:5432/testdb"
   ]
  },
  {
   "cell_type": "code",
   "execution_count": 3,
   "metadata": {},
   "outputs": [],
   "source": [
    "def fromDB(query: str) -> pd.DataFrame:\n",
    "    try:\n",
    "        engine = create_engine('postgresql://toofanmacpro@localhost:5432/testdb')\n",
    "        \n",
    "        with engine.connect() as connection:\n",
    "            df = pd.read_sql(query, connection)\n",
    "            print('read success')\n",
    "        return df\n",
    "        \n",
    "    except Exception as e:\n",
    "        print(f\"error connectin {e}\")"
   ]
  },
  {
   "cell_type": "code",
   "execution_count": 4,
   "metadata": {},
   "outputs": [],
   "source": [
    "def toDB(df: pd.DataFrame, tableName: str):\n",
    "    try: \n",
    "        engine = create_engine('postgresql://toofanmacpro@localhost:5432/testdb')\n",
    "        \n",
    "        with engine.connect() as connection:\n",
    "            df.to_sql(tableName, engine, if_exists = 'replace')\n",
    "            print(f'write success to {tableName} using {engine}')\n",
    "    except Exception as e:\n",
    "        print(f\"connection failed: {e}\")"
   ]
  },
  {
   "cell_type": "code",
   "execution_count": 5,
   "metadata": {},
   "outputs": [
    {
     "name": "stdout",
     "output_type": "stream",
     "text": [
      " * postgresql://toofanmacpro@localhost:5432/testdb\n",
      "5 rows affected.\n"
     ]
    },
    {
     "data": {
      "text/html": [
       "<table>\n",
       "    <thead>\n",
       "        <tr>\n",
       "            <th>index</th>\n",
       "            <th>id</th>\n",
       "            <th>score</th>\n",
       "        </tr>\n",
       "    </thead>\n",
       "    <tbody>\n",
       "        <tr>\n",
       "            <td>2</td>\n",
       "            <td>3</td>\n",
       "            <td>4.0</td>\n",
       "        </tr>\n",
       "        <tr>\n",
       "            <td>4</td>\n",
       "            <td>5</td>\n",
       "            <td>4.0</td>\n",
       "        </tr>\n",
       "        <tr>\n",
       "            <td>3</td>\n",
       "            <td>4</td>\n",
       "            <td>3.85</td>\n",
       "        </tr>\n",
       "        <tr>\n",
       "            <td>1</td>\n",
       "            <td>2</td>\n",
       "            <td>3.65</td>\n",
       "        </tr>\n",
       "        <tr>\n",
       "            <td>5</td>\n",
       "            <td>6</td>\n",
       "            <td>3.65</td>\n",
       "        </tr>\n",
       "    </tbody>\n",
       "</table>"
      ],
      "text/plain": [
       "[(2, 3, 4.0), (4, 5, 4.0), (3, 4, 3.85), (1, 2, 3.65), (5, 6, 3.65)]"
      ]
     },
     "execution_count": 5,
     "metadata": {},
     "output_type": "execute_result"
    }
   ],
   "source": [
    "%%sql\n",
    "SELECT * FROM \"Scores\" \n",
    "ORDER BY score DESC\n",
    "LIMIT 5;"
   ]
  },
  {
   "cell_type": "markdown",
   "metadata": {},
   "source": [
    " reusable code?, lets convert the above TOP N Selection into a function"
   ]
  },
  {
   "cell_type": "code",
   "execution_count": 6,
   "metadata": {},
   "outputs": [
    {
     "name": "stdout",
     "output_type": "stream",
     "text": [
      " * postgresql://toofanmacpro@localhost:5432/testdb\n",
      "Done.\n"
     ]
    },
    {
     "data": {
      "text/plain": [
       "[]"
      ]
     },
     "execution_count": 6,
     "metadata": {},
     "output_type": "execute_result"
    }
   ],
   "source": [
    "%%sql\n",
    "CREATE OR REPLACE FUNCTION TopN( \n",
    "    N INT,\n",
    "    tableName VARCHAR\n",
    "    )\n",
    "RETURNS TABLE (\n",
    "    id INT,\n",
    "    score FLOAT\n",
    ") AS\n",
    "$$\n",
    "BEGIN\n",
    "RETURN QUERY(\n",
    "    SELECT * FROM tableName\n",
    "    ORDER BY score DESC\n",
    "    LIMIT N\n",
    ");\n",
    "END;\n",
    "$$ LANGUAGE plpgsql;"
   ]
  },
  {
   "cell_type": "code",
   "execution_count": 7,
   "metadata": {},
   "outputs": [
    {
     "name": "stdout",
     "output_type": "stream",
     "text": [
      " * postgresql://toofanmacpro@localhost:5432/testdb\n",
      "Done.\n"
     ]
    },
    {
     "data": {
      "text/plain": [
       "[]"
      ]
     },
     "execution_count": 7,
     "metadata": {},
     "output_type": "execute_result"
    }
   ],
   "source": [
    "%%sql\n",
    "CREATE OR REPLACE FUNCTION TopN(\n",
    "    N INT,\n",
    "    tableName VARCHAR,\n",
    "    orderByColumn VARCHAR\n",
    ")\n",
    "RETURNS TABLE (\n",
    "    score FLOAT\n",
    ") AS\n",
    "$$\n",
    "BEGIN\n",
    "    RETURN QUERY EXECUTE format('SELECT DISTINCT %I FROM %I ORDER BY %I DESC LIMIT %L',\n",
    "                                orderByColumn,\n",
    "                                tableName,\n",
    "                                orderByColumn,\n",
    "                                N\n",
    "                               );\n",
    "END;\n",
    "$$ LANGUAGE plpgsql;"
   ]
  },
  {
   "cell_type": "code",
   "execution_count": 8,
   "metadata": {},
   "outputs": [
    {
     "name": "stdout",
     "output_type": "stream",
     "text": [
      " * postgresql://toofanmacpro@localhost:5432/testdb\n",
      "3 rows affected.\n"
     ]
    },
    {
     "data": {
      "text/html": [
       "<table>\n",
       "    <thead>\n",
       "        <tr>\n",
       "            <th>topn</th>\n",
       "        </tr>\n",
       "    </thead>\n",
       "    <tbody>\n",
       "        <tr>\n",
       "            <td>4.0</td>\n",
       "        </tr>\n",
       "        <tr>\n",
       "            <td>3.85</td>\n",
       "        </tr>\n",
       "        <tr>\n",
       "            <td>3.65</td>\n",
       "        </tr>\n",
       "    </tbody>\n",
       "</table>"
      ],
      "text/plain": [
       "[(4.0,), (3.85,), (3.65,)]"
      ]
     },
     "execution_count": 8,
     "metadata": {},
     "output_type": "execute_result"
    }
   ],
   "source": [
    "%%sql\n",
    "SELECT TopN(3,'Scores', 'score')"
   ]
  },
  {
   "cell_type": "markdown",
   "metadata": {},
   "source": [
    "»» lets look at much complicated example that uses DECLARE"
   ]
  },
  {
   "cell_type": "code",
   "execution_count": 9,
   "metadata": {},
   "outputs": [
    {
     "name": "stdout",
     "output_type": "stream",
     "text": [
      "--- Department DataFrame ---\n",
      "   department_id  department_name\n",
      "0              1            Sales\n",
      "1              2        Marketing\n",
      "2              3      Engineering\n",
      "3              4  Human Resources\n",
      "4              5          Finance\n",
      "\n",
      "\n",
      "--- Employee DataFrame ---\n",
      "    employee_name  department_id   salary  hire_date\n",
      "0     Alice Smith              1  60000.0 2020-07-21\n",
      "1     Bob Johnson              1  62000.0 2023-07-21\n",
      "2   Charlie Brown              1  58000.0 2018-07-21\n",
      "3    Diana Prince              1  65000.0 2025-07-21\n",
      "4       Eve Davis              2  70000.0 2019-07-21\n",
      "5     Frank White              2  72000.0 2022-07-21\n",
      "6    Grace Taylor              2  68000.0 2024-07-21\n",
      "7    Henry Wilson              3  90000.0 2017-07-21\n",
      "8       Ivy Moore              3  95000.0 2021-07-21\n",
      "9      Jack Green              3  88000.0 2023-07-21\n",
      "10     Karen Hall              3  92000.0 2016-07-21\n",
      "11      Liam King              4  55000.0 2024-07-21\n",
      "12     Mia Wright              4  57000.0 2022-07-21\n",
      "13     Noah Scott              5  80000.0 2015-07-21\n",
      "14   Olivia Adams              5  83000.0 2020-07-21\n"
     ]
    }
   ],
   "source": [
    "# Get the current date to simulate CURRENT_DATE from SQL\n",
    "current_date = pd.Timestamp.now().normalize()\n",
    "\n",
    "# --- Department Data ---\n",
    "# Create a list of department dictionaries\n",
    "departments_data = [\n",
    "    {'department_id': 1, 'department_name': 'Sales'},\n",
    "    {'department_id': 2, 'department_name': 'Marketing'},\n",
    "    {'department_id': 3, 'department_name': 'Engineering'},\n",
    "    {'department_id': 4, 'department_name': 'Human Resources'},\n",
    "    {'department_id': 5, 'department_name': 'Finance'},\n",
    "]\n",
    "\n",
    "# Create the Department DataFrame\n",
    "df_departments = pd.DataFrame(departments_data)\n",
    "print(\"--- Department DataFrame ---\")\n",
    "print(df_departments)\n",
    "print(\"\\n\")\n",
    "\n",
    "# --- Employee Data ---\n",
    "# Create a list of employee dictionaries\n",
    "employees_data = [\n",
    "    # Sales Department Employees\n",
    "    {'employee_name': 'Alice Smith', 'department_name': 'Sales', 'salary': 60000.00, 'hire_date_offset_years': 5},\n",
    "    {'employee_name': 'Bob Johnson', 'department_name': 'Sales', 'salary': 62000.00, 'hire_date_offset_years': 2},\n",
    "    {'employee_name': 'Charlie Brown', 'department_name': 'Sales', 'salary': 58000.00, 'hire_date_offset_years': 7},\n",
    "    {'employee_name': 'Diana Prince', 'department_name': 'Sales', 'salary': 65000.00, 'hire_date_offset_years': 0},\n",
    "\n",
    "    # Marketing Department Employees\n",
    "    {'employee_name': 'Eve Davis', 'department_name': 'Marketing', 'salary': 70000.00, 'hire_date_offset_years': 6},\n",
    "    {'employee_name': 'Frank White', 'department_name': 'Marketing', 'salary': 72000.00, 'hire_date_offset_years': 3},\n",
    "    {'employee_name': 'Grace Taylor', 'department_name': 'Marketing', 'salary': 68000.00, 'hire_date_offset_years': 1},\n",
    "\n",
    "    # Engineering Department Employees\n",
    "    {'employee_name': 'Henry Wilson', 'department_name': 'Engineering', 'salary': 90000.00, 'hire_date_offset_years': 8},\n",
    "    {'employee_name': 'Ivy Moore', 'department_name': 'Engineering', 'salary': 95000.00, 'hire_date_offset_years': 4},\n",
    "    {'employee_name': 'Jack Green', 'department_name': 'Engineering', 'salary': 88000.00, 'hire_date_offset_years': 2},\n",
    "    {'employee_name': 'Karen Hall', 'department_name': 'Engineering', 'salary': 92000.00, 'hire_date_offset_years': 9},\n",
    "\n",
    "    # Human Resources Department Employees\n",
    "    {'employee_name': 'Liam King', 'department_name': 'Human Resources', 'salary': 55000.00, 'hire_date_offset_years': 1},\n",
    "    {'employee_name': 'Mia Wright', 'department_name': 'Human Resources', 'salary': 57000.00, 'hire_date_offset_years': 3},\n",
    "\n",
    "    # Finance Department Employees\n",
    "    {'employee_name': 'Noah Scott', 'department_name': 'Finance', 'salary': 80000.00, 'hire_date_offset_years': 10},\n",
    "    {'employee_name': 'Olivia Adams', 'department_name': 'Finance', 'salary': 83000.00, 'hire_date_offset_years': 5}\n",
    "]\n",
    "\n",
    "# Create the Employee DataFrame\n",
    "df_employees = pd.DataFrame(employees_data)\n",
    "\n",
    "# Map department names to department_ids for the employee DataFrame\n",
    "# This simulates the JOIN operation in the SQL function\n",
    "department_id_map = df_departments.set_index('department_name')['department_id'].to_dict()\n",
    "df_employees['department_id'] = df_employees['department_name'].map(department_id_map)\n",
    "\n",
    "# Calculate actual hire_date based on current_date and offset years\n",
    "df_employees['hire_date'] = df_employees['hire_date_offset_years'].apply(\n",
    "    lambda years: current_date - pd.DateOffset(years=years)\n",
    ")\n",
    "\n",
    "# Drop the temporary 'department_name' and 'hire_date_offset_years' columns if not needed\n",
    "df_employees = df_employees.drop(columns=['department_name', 'hire_date_offset_years'])\n",
    "\n",
    "# Reorder columns to match the SQL table structure (optional, for clarity)\n",
    "df_employees = df_employees[['employee_name', 'department_id', 'salary', 'hire_date']]\n",
    "\n",
    "print(\"--- Employee DataFrame ---\")\n",
    "print(df_employees)"
   ]
  },
  {
   "cell_type": "code",
   "execution_count": 10,
   "metadata": {},
   "outputs": [
    {
     "name": "stdout",
     "output_type": "stream",
     "text": [
      "write success to empRecords using Engine(postgresql://toofanmacpro@localhost:5432/testdb)\n"
     ]
    }
   ],
   "source": [
    "toDB(df_employees, 'empRecords')"
   ]
  },
  {
   "cell_type": "code",
   "execution_count": 11,
   "metadata": {},
   "outputs": [
    {
     "name": "stdout",
     "output_type": "stream",
     "text": [
      "write success to departments using Engine(postgresql://toofanmacpro@localhost:5432/testdb)\n"
     ]
    }
   ],
   "source": [
    "toDB(df_departments, 'departments')"
   ]
  },
  {
   "cell_type": "code",
   "execution_count": 12,
   "metadata": {},
   "outputs": [
    {
     "name": "stdout",
     "output_type": "stream",
     "text": [
      " * postgresql://toofanmacpro@localhost:5432/testdb\n",
      "15 rows affected.\n"
     ]
    },
    {
     "data": {
      "text/html": [
       "<table>\n",
       "    <thead>\n",
       "        <tr>\n",
       "            <th>index</th>\n",
       "            <th>employee_name</th>\n",
       "            <th>department_id</th>\n",
       "            <th>salary</th>\n",
       "            <th>hire_date</th>\n",
       "        </tr>\n",
       "    </thead>\n",
       "    <tbody>\n",
       "        <tr>\n",
       "            <td>0</td>\n",
       "            <td>Alice Smith</td>\n",
       "            <td>1</td>\n",
       "            <td>60000.0</td>\n",
       "            <td>2020-07-21 00:00:00</td>\n",
       "        </tr>\n",
       "        <tr>\n",
       "            <td>1</td>\n",
       "            <td>Bob Johnson</td>\n",
       "            <td>1</td>\n",
       "            <td>62000.0</td>\n",
       "            <td>2023-07-21 00:00:00</td>\n",
       "        </tr>\n",
       "        <tr>\n",
       "            <td>2</td>\n",
       "            <td>Charlie Brown</td>\n",
       "            <td>1</td>\n",
       "            <td>58000.0</td>\n",
       "            <td>2018-07-21 00:00:00</td>\n",
       "        </tr>\n",
       "        <tr>\n",
       "            <td>3</td>\n",
       "            <td>Diana Prince</td>\n",
       "            <td>1</td>\n",
       "            <td>65000.0</td>\n",
       "            <td>2025-07-21 00:00:00</td>\n",
       "        </tr>\n",
       "        <tr>\n",
       "            <td>4</td>\n",
       "            <td>Eve Davis</td>\n",
       "            <td>2</td>\n",
       "            <td>70000.0</td>\n",
       "            <td>2019-07-21 00:00:00</td>\n",
       "        </tr>\n",
       "        <tr>\n",
       "            <td>5</td>\n",
       "            <td>Frank White</td>\n",
       "            <td>2</td>\n",
       "            <td>72000.0</td>\n",
       "            <td>2022-07-21 00:00:00</td>\n",
       "        </tr>\n",
       "        <tr>\n",
       "            <td>6</td>\n",
       "            <td>Grace Taylor</td>\n",
       "            <td>2</td>\n",
       "            <td>68000.0</td>\n",
       "            <td>2024-07-21 00:00:00</td>\n",
       "        </tr>\n",
       "        <tr>\n",
       "            <td>7</td>\n",
       "            <td>Henry Wilson</td>\n",
       "            <td>3</td>\n",
       "            <td>90000.0</td>\n",
       "            <td>2017-07-21 00:00:00</td>\n",
       "        </tr>\n",
       "        <tr>\n",
       "            <td>8</td>\n",
       "            <td>Ivy Moore</td>\n",
       "            <td>3</td>\n",
       "            <td>95000.0</td>\n",
       "            <td>2021-07-21 00:00:00</td>\n",
       "        </tr>\n",
       "        <tr>\n",
       "            <td>9</td>\n",
       "            <td>Jack Green</td>\n",
       "            <td>3</td>\n",
       "            <td>88000.0</td>\n",
       "            <td>2023-07-21 00:00:00</td>\n",
       "        </tr>\n",
       "        <tr>\n",
       "            <td>10</td>\n",
       "            <td>Karen Hall</td>\n",
       "            <td>3</td>\n",
       "            <td>92000.0</td>\n",
       "            <td>2016-07-21 00:00:00</td>\n",
       "        </tr>\n",
       "        <tr>\n",
       "            <td>11</td>\n",
       "            <td>Liam King</td>\n",
       "            <td>4</td>\n",
       "            <td>55000.0</td>\n",
       "            <td>2024-07-21 00:00:00</td>\n",
       "        </tr>\n",
       "        <tr>\n",
       "            <td>12</td>\n",
       "            <td>Mia Wright</td>\n",
       "            <td>4</td>\n",
       "            <td>57000.0</td>\n",
       "            <td>2022-07-21 00:00:00</td>\n",
       "        </tr>\n",
       "        <tr>\n",
       "            <td>13</td>\n",
       "            <td>Noah Scott</td>\n",
       "            <td>5</td>\n",
       "            <td>80000.0</td>\n",
       "            <td>2015-07-21 00:00:00</td>\n",
       "        </tr>\n",
       "        <tr>\n",
       "            <td>14</td>\n",
       "            <td>Olivia Adams</td>\n",
       "            <td>5</td>\n",
       "            <td>83000.0</td>\n",
       "            <td>2020-07-21 00:00:00</td>\n",
       "        </tr>\n",
       "    </tbody>\n",
       "</table>"
      ],
      "text/plain": [
       "[(0, 'Alice Smith', 1, 60000.0, datetime.datetime(2020, 7, 21, 0, 0)),\n",
       " (1, 'Bob Johnson', 1, 62000.0, datetime.datetime(2023, 7, 21, 0, 0)),\n",
       " (2, 'Charlie Brown', 1, 58000.0, datetime.datetime(2018, 7, 21, 0, 0)),\n",
       " (3, 'Diana Prince', 1, 65000.0, datetime.datetime(2025, 7, 21, 0, 0)),\n",
       " (4, 'Eve Davis', 2, 70000.0, datetime.datetime(2019, 7, 21, 0, 0)),\n",
       " (5, 'Frank White', 2, 72000.0, datetime.datetime(2022, 7, 21, 0, 0)),\n",
       " (6, 'Grace Taylor', 2, 68000.0, datetime.datetime(2024, 7, 21, 0, 0)),\n",
       " (7, 'Henry Wilson', 3, 90000.0, datetime.datetime(2017, 7, 21, 0, 0)),\n",
       " (8, 'Ivy Moore', 3, 95000.0, datetime.datetime(2021, 7, 21, 0, 0)),\n",
       " (9, 'Jack Green', 3, 88000.0, datetime.datetime(2023, 7, 21, 0, 0)),\n",
       " (10, 'Karen Hall', 3, 92000.0, datetime.datetime(2016, 7, 21, 0, 0)),\n",
       " (11, 'Liam King', 4, 55000.0, datetime.datetime(2024, 7, 21, 0, 0)),\n",
       " (12, 'Mia Wright', 4, 57000.0, datetime.datetime(2022, 7, 21, 0, 0)),\n",
       " (13, 'Noah Scott', 5, 80000.0, datetime.datetime(2015, 7, 21, 0, 0)),\n",
       " (14, 'Olivia Adams', 5, 83000.0, datetime.datetime(2020, 7, 21, 0, 0))]"
      ]
     },
     "execution_count": 12,
     "metadata": {},
     "output_type": "execute_result"
    }
   ],
   "source": [
    "%%sql\n",
    "SELECT * FROM \"empRecords\""
   ]
  },
  {
   "cell_type": "code",
   "execution_count": 13,
   "metadata": {},
   "outputs": [
    {
     "name": "stdout",
     "output_type": "stream",
     "text": [
      " * postgresql://toofanmacpro@localhost:5432/testdb\n",
      "5 rows affected.\n"
     ]
    },
    {
     "data": {
      "text/html": [
       "<table>\n",
       "    <thead>\n",
       "        <tr>\n",
       "            <th>index</th>\n",
       "            <th>department_id</th>\n",
       "            <th>department_name</th>\n",
       "        </tr>\n",
       "    </thead>\n",
       "    <tbody>\n",
       "        <tr>\n",
       "            <td>0</td>\n",
       "            <td>1</td>\n",
       "            <td>Sales</td>\n",
       "        </tr>\n",
       "        <tr>\n",
       "            <td>1</td>\n",
       "            <td>2</td>\n",
       "            <td>Marketing</td>\n",
       "        </tr>\n",
       "        <tr>\n",
       "            <td>2</td>\n",
       "            <td>3</td>\n",
       "            <td>Engineering</td>\n",
       "        </tr>\n",
       "        <tr>\n",
       "            <td>3</td>\n",
       "            <td>4</td>\n",
       "            <td>Human Resources</td>\n",
       "        </tr>\n",
       "        <tr>\n",
       "            <td>4</td>\n",
       "            <td>5</td>\n",
       "            <td>Finance</td>\n",
       "        </tr>\n",
       "    </tbody>\n",
       "</table>"
      ],
      "text/plain": [
       "[(0, 1, 'Sales'),\n",
       " (1, 2, 'Marketing'),\n",
       " (2, 3, 'Engineering'),\n",
       " (3, 4, 'Human Resources'),\n",
       " (4, 5, 'Finance')]"
      ]
     },
     "execution_count": 13,
     "metadata": {},
     "output_type": "execute_result"
    }
   ],
   "source": [
    "%%sql\n",
    "SELECT * FROM \"departments\""
   ]
  },
  {
   "cell_type": "code",
   "execution_count": 14,
   "metadata": {},
   "outputs": [
    {
     "name": "stdout",
     "output_type": "stream",
     "text": [
      " * postgresql://toofanmacpro@localhost:5432/testdb\n",
      "Done.\n"
     ]
    },
    {
     "data": {
      "text/plain": [
       "[]"
      ]
     },
     "execution_count": 14,
     "metadata": {},
     "output_type": "execute_result"
    }
   ],
   "source": [
    "%%sql\n",
    "CREATE OR REPLACE FUNCTION DeptAvgSalary (                                                      -- passing department name, minimum years of experience, & whether bonus be included in avg salary calculation\n",
    "    depName VARCHAR,                                                            \n",
    "    minYears INT,\n",
    "    inclBonus BOOLEAN DEFAULT FALSE\n",
    ")\n",
    "RETURNS TABLE (                                                                                 -- returns average salary & total no of people in the deparment that meet the criteria set in input params\n",
    "    deptName VARCHAR,\n",
    "    avgSalary NUMERIC,\n",
    "    totEmpl BIGINT\n",
    ") AS \n",
    "$$\n",
    "DECLARE                                                                                         -- declaring the local variables I require rather than hardcoding them into query for easy maintenance\n",
    "    bonusPct NUMERIC := 0.10;\n",
    "    totalSal NUMERIC := 0;\n",
    "    emplCnt BIGINT := 0;\n",
    "    avgSal NUMERIC;\n",
    "BEGIN\n",
    "    IF minYears < 0 THEN                                                                        -- little validation before I dive-in \n",
    "        RAISE EXCEPTION 'Min years of exp cannot be negative';\n",
    "    END IF;\n",
    "    \n",
    "    SELECT                                                                                      \n",
    "        SUM(                                                                                    -- we add up salary, and bonus to it if function params indicate so\n",
    "            e.salary + CASE WHEN inclBonus THEN e.salary * bonusPct ELSE 0 END\n",
    "        ),\n",
    "        COUNT(e.index)                                                                          -- count the employees in the filtered criteria\n",
    "    INTO \n",
    "        totalSal,\n",
    "        emplCnt\n",
    "    FROM \n",
    "        \"empRecords\" AS e\n",
    "    JOIN\n",
    "        \"departments\" AS d ON e.department_id = d.department_id\n",
    "    WHERE\n",
    "        d.department_name = depName\n",
    "        AND\n",
    "        EXTRACT(YEAR FROM AGE(CURRENT_DATE, e.hire_date)) >= minYears;\n",
    "        \n",
    "    IF emplCNT >0 THEN \n",
    "        avgSalary := totalSal / emplCnt;\n",
    "    ELSE\n",
    "        avgSal := 0;    \n",
    "    END IF;\n",
    "    \n",
    "    RETURN QUERY SELECT\n",
    "        depName AS department_name,\n",
    "        ROUND(avgSalary) AS average_salary,\n",
    "        emplCnt AS total_eligible_employees;   \n",
    "END;\n",
    "$$ LANGUAGE plpgsql;"
   ]
  },
  {
   "cell_type": "code",
   "execution_count": 15,
   "metadata": {},
   "outputs": [
    {
     "name": "stdout",
     "output_type": "stream",
     "text": [
      " * postgresql://toofanmacpro@localhost:5432/testdb\n",
      "1 rows affected.\n"
     ]
    },
    {
     "data": {
      "text/html": [
       "<table>\n",
       "    <thead>\n",
       "        <tr>\n",
       "            <th>deptname</th>\n",
       "            <th>avgsalary</th>\n",
       "            <th>totempl</th>\n",
       "        </tr>\n",
       "    </thead>\n",
       "    <tbody>\n",
       "        <tr>\n",
       "            <td>Sales</td>\n",
       "            <td>59000</td>\n",
       "            <td>2</td>\n",
       "        </tr>\n",
       "    </tbody>\n",
       "</table>"
      ],
      "text/plain": [
       "[('Sales', Decimal('59000'), 2)]"
      ]
     },
     "execution_count": 15,
     "metadata": {},
     "output_type": "execute_result"
    }
   ],
   "source": [
    "%%sql\n",
    "SELECT * FROM DeptAvgSalary('Sales', 4, FALSE);"
   ]
  },
  {
   "cell_type": "markdown",
   "metadata": {},
   "source": [
    "»» if the function needs to be dropped"
   ]
  },
  {
   "cell_type": "code",
   "execution_count": 17,
   "metadata": {},
   "outputs": [
    {
     "name": "stdout",
     "output_type": "stream",
     "text": [
      " * postgresql://toofanmacpro@localhost:5432/testdb\n",
      "5 rows affected.\n"
     ]
    },
    {
     "data": {
      "text/html": [
       "<table>\n",
       "    <thead>\n",
       "        <tr>\n",
       "            <th>index</th>\n",
       "            <th>department_id</th>\n",
       "            <th>department_name</th>\n",
       "        </tr>\n",
       "    </thead>\n",
       "    <tbody>\n",
       "        <tr>\n",
       "            <td>0</td>\n",
       "            <td>1</td>\n",
       "            <td>Sales</td>\n",
       "        </tr>\n",
       "        <tr>\n",
       "            <td>1</td>\n",
       "            <td>2</td>\n",
       "            <td>Marketing</td>\n",
       "        </tr>\n",
       "        <tr>\n",
       "            <td>2</td>\n",
       "            <td>3</td>\n",
       "            <td>Engineering</td>\n",
       "        </tr>\n",
       "        <tr>\n",
       "            <td>3</td>\n",
       "            <td>4</td>\n",
       "            <td>Human Resources</td>\n",
       "        </tr>\n",
       "        <tr>\n",
       "            <td>4</td>\n",
       "            <td>5</td>\n",
       "            <td>Finance</td>\n",
       "        </tr>\n",
       "    </tbody>\n",
       "</table>"
      ],
      "text/plain": [
       "[(0, 1, 'Sales'),\n",
       " (1, 2, 'Marketing'),\n",
       " (2, 3, 'Engineering'),\n",
       " (3, 4, 'Human Resources'),\n",
       " (4, 5, 'Finance')]"
      ]
     },
     "execution_count": 17,
     "metadata": {},
     "output_type": "execute_result"
    }
   ],
   "source": [
    "%%sql\n",
    "SELECT * FROM \"departments\""
   ]
  },
  {
   "cell_type": "code",
   "execution_count": 18,
   "metadata": {},
   "outputs": [
    {
     "name": "stdout",
     "output_type": "stream",
     "text": [
      " * postgresql://toofanmacpro@localhost:5432/testdb\n",
      "15 rows affected.\n"
     ]
    },
    {
     "data": {
      "text/html": [
       "<table>\n",
       "    <thead>\n",
       "        <tr>\n",
       "            <th>index</th>\n",
       "            <th>employee_name</th>\n",
       "            <th>department_id</th>\n",
       "            <th>salary</th>\n",
       "            <th>hire_date</th>\n",
       "        </tr>\n",
       "    </thead>\n",
       "    <tbody>\n",
       "        <tr>\n",
       "            <td>0</td>\n",
       "            <td>Alice Smith</td>\n",
       "            <td>1</td>\n",
       "            <td>60000.0</td>\n",
       "            <td>2020-07-21 00:00:00</td>\n",
       "        </tr>\n",
       "        <tr>\n",
       "            <td>1</td>\n",
       "            <td>Bob Johnson</td>\n",
       "            <td>1</td>\n",
       "            <td>62000.0</td>\n",
       "            <td>2023-07-21 00:00:00</td>\n",
       "        </tr>\n",
       "        <tr>\n",
       "            <td>2</td>\n",
       "            <td>Charlie Brown</td>\n",
       "            <td>1</td>\n",
       "            <td>58000.0</td>\n",
       "            <td>2018-07-21 00:00:00</td>\n",
       "        </tr>\n",
       "        <tr>\n",
       "            <td>3</td>\n",
       "            <td>Diana Prince</td>\n",
       "            <td>1</td>\n",
       "            <td>65000.0</td>\n",
       "            <td>2025-07-21 00:00:00</td>\n",
       "        </tr>\n",
       "        <tr>\n",
       "            <td>4</td>\n",
       "            <td>Eve Davis</td>\n",
       "            <td>2</td>\n",
       "            <td>70000.0</td>\n",
       "            <td>2019-07-21 00:00:00</td>\n",
       "        </tr>\n",
       "        <tr>\n",
       "            <td>5</td>\n",
       "            <td>Frank White</td>\n",
       "            <td>2</td>\n",
       "            <td>72000.0</td>\n",
       "            <td>2022-07-21 00:00:00</td>\n",
       "        </tr>\n",
       "        <tr>\n",
       "            <td>6</td>\n",
       "            <td>Grace Taylor</td>\n",
       "            <td>2</td>\n",
       "            <td>68000.0</td>\n",
       "            <td>2024-07-21 00:00:00</td>\n",
       "        </tr>\n",
       "        <tr>\n",
       "            <td>7</td>\n",
       "            <td>Henry Wilson</td>\n",
       "            <td>3</td>\n",
       "            <td>90000.0</td>\n",
       "            <td>2017-07-21 00:00:00</td>\n",
       "        </tr>\n",
       "        <tr>\n",
       "            <td>8</td>\n",
       "            <td>Ivy Moore</td>\n",
       "            <td>3</td>\n",
       "            <td>95000.0</td>\n",
       "            <td>2021-07-21 00:00:00</td>\n",
       "        </tr>\n",
       "        <tr>\n",
       "            <td>9</td>\n",
       "            <td>Jack Green</td>\n",
       "            <td>3</td>\n",
       "            <td>88000.0</td>\n",
       "            <td>2023-07-21 00:00:00</td>\n",
       "        </tr>\n",
       "        <tr>\n",
       "            <td>10</td>\n",
       "            <td>Karen Hall</td>\n",
       "            <td>3</td>\n",
       "            <td>92000.0</td>\n",
       "            <td>2016-07-21 00:00:00</td>\n",
       "        </tr>\n",
       "        <tr>\n",
       "            <td>11</td>\n",
       "            <td>Liam King</td>\n",
       "            <td>4</td>\n",
       "            <td>55000.0</td>\n",
       "            <td>2024-07-21 00:00:00</td>\n",
       "        </tr>\n",
       "        <tr>\n",
       "            <td>12</td>\n",
       "            <td>Mia Wright</td>\n",
       "            <td>4</td>\n",
       "            <td>57000.0</td>\n",
       "            <td>2022-07-21 00:00:00</td>\n",
       "        </tr>\n",
       "        <tr>\n",
       "            <td>13</td>\n",
       "            <td>Noah Scott</td>\n",
       "            <td>5</td>\n",
       "            <td>80000.0</td>\n",
       "            <td>2015-07-21 00:00:00</td>\n",
       "        </tr>\n",
       "        <tr>\n",
       "            <td>14</td>\n",
       "            <td>Olivia Adams</td>\n",
       "            <td>5</td>\n",
       "            <td>83000.0</td>\n",
       "            <td>2020-07-21 00:00:00</td>\n",
       "        </tr>\n",
       "    </tbody>\n",
       "</table>"
      ],
      "text/plain": [
       "[(0, 'Alice Smith', 1, 60000.0, datetime.datetime(2020, 7, 21, 0, 0)),\n",
       " (1, 'Bob Johnson', 1, 62000.0, datetime.datetime(2023, 7, 21, 0, 0)),\n",
       " (2, 'Charlie Brown', 1, 58000.0, datetime.datetime(2018, 7, 21, 0, 0)),\n",
       " (3, 'Diana Prince', 1, 65000.0, datetime.datetime(2025, 7, 21, 0, 0)),\n",
       " (4, 'Eve Davis', 2, 70000.0, datetime.datetime(2019, 7, 21, 0, 0)),\n",
       " (5, 'Frank White', 2, 72000.0, datetime.datetime(2022, 7, 21, 0, 0)),\n",
       " (6, 'Grace Taylor', 2, 68000.0, datetime.datetime(2024, 7, 21, 0, 0)),\n",
       " (7, 'Henry Wilson', 3, 90000.0, datetime.datetime(2017, 7, 21, 0, 0)),\n",
       " (8, 'Ivy Moore', 3, 95000.0, datetime.datetime(2021, 7, 21, 0, 0)),\n",
       " (9, 'Jack Green', 3, 88000.0, datetime.datetime(2023, 7, 21, 0, 0)),\n",
       " (10, 'Karen Hall', 3, 92000.0, datetime.datetime(2016, 7, 21, 0, 0)),\n",
       " (11, 'Liam King', 4, 55000.0, datetime.datetime(2024, 7, 21, 0, 0)),\n",
       " (12, 'Mia Wright', 4, 57000.0, datetime.datetime(2022, 7, 21, 0, 0)),\n",
       " (13, 'Noah Scott', 5, 80000.0, datetime.datetime(2015, 7, 21, 0, 0)),\n",
       " (14, 'Olivia Adams', 5, 83000.0, datetime.datetime(2020, 7, 21, 0, 0))]"
      ]
     },
     "execution_count": 18,
     "metadata": {},
     "output_type": "execute_result"
    }
   ],
   "source": [
    "%%sql\n",
    "SELECT * FROM \"empRecords\""
   ]
  },
  {
   "cell_type": "code",
   "execution_count": 16,
   "metadata": {},
   "outputs": [
    {
     "name": "stdout",
     "output_type": "stream",
     "text": [
      " * postgresql://toofanmacpro@localhost:5432/testdb\n",
      "Done.\n"
     ]
    },
    {
     "data": {
      "text/plain": [
       "[]"
      ]
     },
     "execution_count": 16,
     "metadata": {},
     "output_type": "execute_result"
    }
   ],
   "source": [
    "%%sql\n",
    "DROP FUNCTION TopN(\n",
    "    N INT,\n",
    "    tableName VARCHAR,\n",
    "    orderByColumn VARCHAR\n",
    ")"
   ]
  },
  {
   "cell_type": "code",
   "execution_count": null,
   "metadata": {},
   "outputs": [],
   "source": []
  },
  {
   "cell_type": "code",
   "execution_count": null,
   "metadata": {},
   "outputs": [],
   "source": []
  }
 ],
 "metadata": {
  "kernelspec": {
   "display_name": "venv",
   "language": "python",
   "name": "python3"
  },
  "language_info": {
   "codemirror_mode": {
    "name": "ipython",
    "version": 3
   },
   "file_extension": ".py",
   "mimetype": "text/x-python",
   "name": "python",
   "nbconvert_exporter": "python",
   "pygments_lexer": "ipython3",
   "version": "3.12.7"
  }
 },
 "nbformat": 4,
 "nbformat_minor": 2
}
